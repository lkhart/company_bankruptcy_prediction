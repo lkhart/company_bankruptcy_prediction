{
  "nbformat": 4,
  "nbformat_minor": 0,
  "metadata": {
    "colab": {
      "name": "bankruptcy_eda_and_modeling.ipynb",
      "provenance": [],
      "collapsed_sections": [],
      "toc_visible": true,
      "authorship_tag": "ABX9TyN2XJRUE/1GkyJe0tPQ2tsz",
      "include_colab_link": true
    },
    "kernelspec": {
      "name": "python3",
      "display_name": "Python 3"
    },
    "language_info": {
      "name": "python"
    }
  },
  "cells": [
    {
      "cell_type": "markdown",
      "metadata": {
        "id": "view-in-github",
        "colab_type": "text"
      },
      "source": [
        "<a href=\"https://colab.research.google.com/github/lkhart/company_bankruptcy_prediction/blob/main/bankruptcy_eda_and_modeling.ipynb\" target=\"_parent\"><img src=\"https://colab.research.google.com/assets/colab-badge.svg\" alt=\"Open In Colab\"/></a>"
      ]
    },
    {
      "cell_type": "markdown",
      "source": [
        "# **Bankruptcy Exploratory Data Analysis**\n",
        "\n",
        "This notebook includes exploratory analysis and supervised classification modeling of the Company Bankruptcy dataset from [Kaggle](https://www.kaggle.com/fedesoriano/company-bankruptcy-prediction).\n",
        "\n"
      ],
      "metadata": {
        "id": "XecssHDN9cQw"
      }
    },
    {
      "cell_type": "markdown",
      "source": [
        "## Setup"
      ],
      "metadata": {
        "id": "qExLy3zT-FPr"
      }
    },
    {
      "cell_type": "code",
      "execution_count": 2,
      "metadata": {
        "id": "rTBJA6AW9QZx"
      },
      "outputs": [],
      "source": [
        "import pandas as pd\n",
        "import numpy as np\n",
        "from matplotlib import pyplot as plt\n",
        "import seaborn as sns\n",
        "from sklearn.preprocessing import StandardScaler, MinMaxScaler\n",
        "from sklearn.model_selection import train_test_split, GridSearchCV\n",
        "from sklearn.svm import SVC\n",
        "from sklearn.linear_model import LogisticRegression\n",
        "from sklearn.naive_bayes import ComplementNB\n",
        "from sklearn.metrics import classification_report, confusion_matrix, accuracy_score, roc_curve, RocCurveDisplay, auc, PrecisionRecallDisplay\n",
        "from sklearn.ensemble import RandomForestClassifier, GradientBoostingClassifier, ExtraTreesClassifier\n"
      ]
    },
    {
      "cell_type": "code",
      "source": [
        "# import dataset from github\n",
        "url_data = 'https://raw.githubusercontent.com/lkhart/company_bankruptcy_prediction/main/data/data.csv'\n",
        "\n",
        "data = pd.read_csv(url_data)\n",
        "\n",
        "data.head()"
      ],
      "metadata": {
        "colab": {
          "base_uri": "https://localhost:8080/",
          "height": 421
        },
        "id": "ZlUE7rpc-WAz",
        "outputId": "99621e7e-70a5-4f09-d33e-f9bca6e96312"
      },
      "execution_count": 3,
      "outputs": [
        {
          "output_type": "execute_result",
          "data": {
            "text/html": [
              "\n",
              "  <div id=\"df-99174922-7e4e-438b-bb3c-a5e059a33310\">\n",
              "    <div class=\"colab-df-container\">\n",
              "      <div>\n",
              "<style scoped>\n",
              "    .dataframe tbody tr th:only-of-type {\n",
              "        vertical-align: middle;\n",
              "    }\n",
              "\n",
              "    .dataframe tbody tr th {\n",
              "        vertical-align: top;\n",
              "    }\n",
              "\n",
              "    .dataframe thead th {\n",
              "        text-align: right;\n",
              "    }\n",
              "</style>\n",
              "<table border=\"1\" class=\"dataframe\">\n",
              "  <thead>\n",
              "    <tr style=\"text-align: right;\">\n",
              "      <th></th>\n",
              "      <th>Bankrupt?</th>\n",
              "      <th>ROA(C) before interest and depreciation before interest</th>\n",
              "      <th>ROA(A) before interest and % after tax</th>\n",
              "      <th>ROA(B) before interest and depreciation after tax</th>\n",
              "      <th>Operating Gross Margin</th>\n",
              "      <th>Realized Sales Gross Margin</th>\n",
              "      <th>Operating Profit Rate</th>\n",
              "      <th>Pre-tax net Interest Rate</th>\n",
              "      <th>After-tax net Interest Rate</th>\n",
              "      <th>Non-industry income and expenditure/revenue</th>\n",
              "      <th>Continuous interest rate (after tax)</th>\n",
              "      <th>Operating Expense Rate</th>\n",
              "      <th>Research and development expense rate</th>\n",
              "      <th>Cash flow rate</th>\n",
              "      <th>Interest-bearing debt interest rate</th>\n",
              "      <th>Tax rate (A)</th>\n",
              "      <th>Net Value Per Share (B)</th>\n",
              "      <th>Net Value Per Share (A)</th>\n",
              "      <th>Net Value Per Share (C)</th>\n",
              "      <th>Persistent EPS in the Last Four Seasons</th>\n",
              "      <th>Cash Flow Per Share</th>\n",
              "      <th>Revenue Per Share (Yuan ¥)</th>\n",
              "      <th>Operating Profit Per Share (Yuan ¥)</th>\n",
              "      <th>Per Share Net profit before tax (Yuan ¥)</th>\n",
              "      <th>Realized Sales Gross Profit Growth Rate</th>\n",
              "      <th>Operating Profit Growth Rate</th>\n",
              "      <th>After-tax Net Profit Growth Rate</th>\n",
              "      <th>Regular Net Profit Growth Rate</th>\n",
              "      <th>Continuous Net Profit Growth Rate</th>\n",
              "      <th>Total Asset Growth Rate</th>\n",
              "      <th>Net Value Growth Rate</th>\n",
              "      <th>Total Asset Return Growth Rate Ratio</th>\n",
              "      <th>Cash Reinvestment %</th>\n",
              "      <th>Current Ratio</th>\n",
              "      <th>Quick Ratio</th>\n",
              "      <th>Interest Expense Ratio</th>\n",
              "      <th>Total debt/Total net worth</th>\n",
              "      <th>Debt ratio %</th>\n",
              "      <th>Net worth/Assets</th>\n",
              "      <th>Long-term fund suitability ratio (A)</th>\n",
              "      <th>...</th>\n",
              "      <th>Current Assets/Total Assets</th>\n",
              "      <th>Cash/Total Assets</th>\n",
              "      <th>Quick Assets/Current Liability</th>\n",
              "      <th>Cash/Current Liability</th>\n",
              "      <th>Current Liability to Assets</th>\n",
              "      <th>Operating Funds to Liability</th>\n",
              "      <th>Inventory/Working Capital</th>\n",
              "      <th>Inventory/Current Liability</th>\n",
              "      <th>Current Liabilities/Liability</th>\n",
              "      <th>Working Capital/Equity</th>\n",
              "      <th>Current Liabilities/Equity</th>\n",
              "      <th>Long-term Liability to Current Assets</th>\n",
              "      <th>Retained Earnings to Total Assets</th>\n",
              "      <th>Total income/Total expense</th>\n",
              "      <th>Total expense/Assets</th>\n",
              "      <th>Current Asset Turnover Rate</th>\n",
              "      <th>Quick Asset Turnover Rate</th>\n",
              "      <th>Working capitcal Turnover Rate</th>\n",
              "      <th>Cash Turnover Rate</th>\n",
              "      <th>Cash Flow to Sales</th>\n",
              "      <th>Fixed Assets to Assets</th>\n",
              "      <th>Current Liability to Liability</th>\n",
              "      <th>Current Liability to Equity</th>\n",
              "      <th>Equity to Long-term Liability</th>\n",
              "      <th>Cash Flow to Total Assets</th>\n",
              "      <th>Cash Flow to Liability</th>\n",
              "      <th>CFO to Assets</th>\n",
              "      <th>Cash Flow to Equity</th>\n",
              "      <th>Current Liability to Current Assets</th>\n",
              "      <th>Liability-Assets Flag</th>\n",
              "      <th>Net Income to Total Assets</th>\n",
              "      <th>Total assets to GNP price</th>\n",
              "      <th>No-credit Interval</th>\n",
              "      <th>Gross Profit to Sales</th>\n",
              "      <th>Net Income to Stockholder's Equity</th>\n",
              "      <th>Liability to Equity</th>\n",
              "      <th>Degree of Financial Leverage (DFL)</th>\n",
              "      <th>Interest Coverage Ratio (Interest expense to EBIT)</th>\n",
              "      <th>Net Income Flag</th>\n",
              "      <th>Equity to Liability</th>\n",
              "    </tr>\n",
              "  </thead>\n",
              "  <tbody>\n",
              "    <tr>\n",
              "      <th>0</th>\n",
              "      <td>1</td>\n",
              "      <td>0.370594</td>\n",
              "      <td>0.424389</td>\n",
              "      <td>0.405750</td>\n",
              "      <td>0.601457</td>\n",
              "      <td>0.601457</td>\n",
              "      <td>0.998969</td>\n",
              "      <td>0.796887</td>\n",
              "      <td>0.808809</td>\n",
              "      <td>0.302646</td>\n",
              "      <td>0.780985</td>\n",
              "      <td>1.256969e-04</td>\n",
              "      <td>0.0</td>\n",
              "      <td>0.458143</td>\n",
              "      <td>0.000725</td>\n",
              "      <td>0.0</td>\n",
              "      <td>0.147950</td>\n",
              "      <td>0.147950</td>\n",
              "      <td>0.147950</td>\n",
              "      <td>0.169141</td>\n",
              "      <td>0.311664</td>\n",
              "      <td>0.017560</td>\n",
              "      <td>0.095921</td>\n",
              "      <td>0.138736</td>\n",
              "      <td>0.022102</td>\n",
              "      <td>0.848195</td>\n",
              "      <td>0.688979</td>\n",
              "      <td>0.688979</td>\n",
              "      <td>0.217535</td>\n",
              "      <td>4.980000e+09</td>\n",
              "      <td>0.000327</td>\n",
              "      <td>0.263100</td>\n",
              "      <td>0.363725</td>\n",
              "      <td>0.002259</td>\n",
              "      <td>0.001208</td>\n",
              "      <td>0.629951</td>\n",
              "      <td>0.021266</td>\n",
              "      <td>0.207576</td>\n",
              "      <td>0.792424</td>\n",
              "      <td>0.005024</td>\n",
              "      <td>...</td>\n",
              "      <td>0.190643</td>\n",
              "      <td>0.004094</td>\n",
              "      <td>0.001997</td>\n",
              "      <td>1.473360e-04</td>\n",
              "      <td>0.147308</td>\n",
              "      <td>0.334015</td>\n",
              "      <td>0.276920</td>\n",
              "      <td>0.001036</td>\n",
              "      <td>0.676269</td>\n",
              "      <td>0.721275</td>\n",
              "      <td>0.339077</td>\n",
              "      <td>0.025592</td>\n",
              "      <td>0.903225</td>\n",
              "      <td>0.002022</td>\n",
              "      <td>0.064856</td>\n",
              "      <td>7.010000e+08</td>\n",
              "      <td>6.550000e+09</td>\n",
              "      <td>0.593831</td>\n",
              "      <td>4.580000e+08</td>\n",
              "      <td>0.671568</td>\n",
              "      <td>0.424206</td>\n",
              "      <td>0.676269</td>\n",
              "      <td>0.339077</td>\n",
              "      <td>0.126549</td>\n",
              "      <td>0.637555</td>\n",
              "      <td>0.458609</td>\n",
              "      <td>0.520382</td>\n",
              "      <td>0.312905</td>\n",
              "      <td>0.118250</td>\n",
              "      <td>0</td>\n",
              "      <td>0.716845</td>\n",
              "      <td>0.009219</td>\n",
              "      <td>0.622879</td>\n",
              "      <td>0.601453</td>\n",
              "      <td>0.827890</td>\n",
              "      <td>0.290202</td>\n",
              "      <td>0.026601</td>\n",
              "      <td>0.564050</td>\n",
              "      <td>1</td>\n",
              "      <td>0.016469</td>\n",
              "    </tr>\n",
              "    <tr>\n",
              "      <th>1</th>\n",
              "      <td>1</td>\n",
              "      <td>0.464291</td>\n",
              "      <td>0.538214</td>\n",
              "      <td>0.516730</td>\n",
              "      <td>0.610235</td>\n",
              "      <td>0.610235</td>\n",
              "      <td>0.998946</td>\n",
              "      <td>0.797380</td>\n",
              "      <td>0.809301</td>\n",
              "      <td>0.303556</td>\n",
              "      <td>0.781506</td>\n",
              "      <td>2.897851e-04</td>\n",
              "      <td>0.0</td>\n",
              "      <td>0.461867</td>\n",
              "      <td>0.000647</td>\n",
              "      <td>0.0</td>\n",
              "      <td>0.182251</td>\n",
              "      <td>0.182251</td>\n",
              "      <td>0.182251</td>\n",
              "      <td>0.208944</td>\n",
              "      <td>0.318137</td>\n",
              "      <td>0.021144</td>\n",
              "      <td>0.093722</td>\n",
              "      <td>0.169918</td>\n",
              "      <td>0.022080</td>\n",
              "      <td>0.848088</td>\n",
              "      <td>0.689693</td>\n",
              "      <td>0.689702</td>\n",
              "      <td>0.217620</td>\n",
              "      <td>6.110000e+09</td>\n",
              "      <td>0.000443</td>\n",
              "      <td>0.264516</td>\n",
              "      <td>0.376709</td>\n",
              "      <td>0.006016</td>\n",
              "      <td>0.004039</td>\n",
              "      <td>0.635172</td>\n",
              "      <td>0.012502</td>\n",
              "      <td>0.171176</td>\n",
              "      <td>0.828824</td>\n",
              "      <td>0.005059</td>\n",
              "      <td>...</td>\n",
              "      <td>0.182419</td>\n",
              "      <td>0.014948</td>\n",
              "      <td>0.004136</td>\n",
              "      <td>1.383910e-03</td>\n",
              "      <td>0.056963</td>\n",
              "      <td>0.341106</td>\n",
              "      <td>0.289642</td>\n",
              "      <td>0.005210</td>\n",
              "      <td>0.308589</td>\n",
              "      <td>0.731975</td>\n",
              "      <td>0.329740</td>\n",
              "      <td>0.023947</td>\n",
              "      <td>0.931065</td>\n",
              "      <td>0.002226</td>\n",
              "      <td>0.025516</td>\n",
              "      <td>1.065198e-04</td>\n",
              "      <td>7.700000e+09</td>\n",
              "      <td>0.593916</td>\n",
              "      <td>2.490000e+09</td>\n",
              "      <td>0.671570</td>\n",
              "      <td>0.468828</td>\n",
              "      <td>0.308589</td>\n",
              "      <td>0.329740</td>\n",
              "      <td>0.120916</td>\n",
              "      <td>0.641100</td>\n",
              "      <td>0.459001</td>\n",
              "      <td>0.567101</td>\n",
              "      <td>0.314163</td>\n",
              "      <td>0.047775</td>\n",
              "      <td>0</td>\n",
              "      <td>0.795297</td>\n",
              "      <td>0.008323</td>\n",
              "      <td>0.623652</td>\n",
              "      <td>0.610237</td>\n",
              "      <td>0.839969</td>\n",
              "      <td>0.283846</td>\n",
              "      <td>0.264577</td>\n",
              "      <td>0.570175</td>\n",
              "      <td>1</td>\n",
              "      <td>0.020794</td>\n",
              "    </tr>\n",
              "    <tr>\n",
              "      <th>2</th>\n",
              "      <td>1</td>\n",
              "      <td>0.426071</td>\n",
              "      <td>0.499019</td>\n",
              "      <td>0.472295</td>\n",
              "      <td>0.601450</td>\n",
              "      <td>0.601364</td>\n",
              "      <td>0.998857</td>\n",
              "      <td>0.796403</td>\n",
              "      <td>0.808388</td>\n",
              "      <td>0.302035</td>\n",
              "      <td>0.780284</td>\n",
              "      <td>2.361297e-04</td>\n",
              "      <td>25500000.0</td>\n",
              "      <td>0.458521</td>\n",
              "      <td>0.000790</td>\n",
              "      <td>0.0</td>\n",
              "      <td>0.177911</td>\n",
              "      <td>0.177911</td>\n",
              "      <td>0.193713</td>\n",
              "      <td>0.180581</td>\n",
              "      <td>0.307102</td>\n",
              "      <td>0.005944</td>\n",
              "      <td>0.092338</td>\n",
              "      <td>0.142803</td>\n",
              "      <td>0.022760</td>\n",
              "      <td>0.848094</td>\n",
              "      <td>0.689463</td>\n",
              "      <td>0.689470</td>\n",
              "      <td>0.217601</td>\n",
              "      <td>7.280000e+09</td>\n",
              "      <td>0.000396</td>\n",
              "      <td>0.264184</td>\n",
              "      <td>0.368913</td>\n",
              "      <td>0.011543</td>\n",
              "      <td>0.005348</td>\n",
              "      <td>0.629631</td>\n",
              "      <td>0.021248</td>\n",
              "      <td>0.207516</td>\n",
              "      <td>0.792484</td>\n",
              "      <td>0.005100</td>\n",
              "      <td>...</td>\n",
              "      <td>0.602806</td>\n",
              "      <td>0.000991</td>\n",
              "      <td>0.006302</td>\n",
              "      <td>5.340000e+09</td>\n",
              "      <td>0.098162</td>\n",
              "      <td>0.336731</td>\n",
              "      <td>0.277456</td>\n",
              "      <td>0.013879</td>\n",
              "      <td>0.446027</td>\n",
              "      <td>0.742729</td>\n",
              "      <td>0.334777</td>\n",
              "      <td>0.003715</td>\n",
              "      <td>0.909903</td>\n",
              "      <td>0.002060</td>\n",
              "      <td>0.021387</td>\n",
              "      <td>1.791094e-03</td>\n",
              "      <td>1.022676e-03</td>\n",
              "      <td>0.594502</td>\n",
              "      <td>7.610000e+08</td>\n",
              "      <td>0.671571</td>\n",
              "      <td>0.276179</td>\n",
              "      <td>0.446027</td>\n",
              "      <td>0.334777</td>\n",
              "      <td>0.117922</td>\n",
              "      <td>0.642765</td>\n",
              "      <td>0.459254</td>\n",
              "      <td>0.538491</td>\n",
              "      <td>0.314515</td>\n",
              "      <td>0.025346</td>\n",
              "      <td>0</td>\n",
              "      <td>0.774670</td>\n",
              "      <td>0.040003</td>\n",
              "      <td>0.623841</td>\n",
              "      <td>0.601449</td>\n",
              "      <td>0.836774</td>\n",
              "      <td>0.290189</td>\n",
              "      <td>0.026555</td>\n",
              "      <td>0.563706</td>\n",
              "      <td>1</td>\n",
              "      <td>0.016474</td>\n",
              "    </tr>\n",
              "    <tr>\n",
              "      <th>3</th>\n",
              "      <td>1</td>\n",
              "      <td>0.399844</td>\n",
              "      <td>0.451265</td>\n",
              "      <td>0.457733</td>\n",
              "      <td>0.583541</td>\n",
              "      <td>0.583541</td>\n",
              "      <td>0.998700</td>\n",
              "      <td>0.796967</td>\n",
              "      <td>0.808966</td>\n",
              "      <td>0.303350</td>\n",
              "      <td>0.781241</td>\n",
              "      <td>1.078888e-04</td>\n",
              "      <td>0.0</td>\n",
              "      <td>0.465705</td>\n",
              "      <td>0.000449</td>\n",
              "      <td>0.0</td>\n",
              "      <td>0.154187</td>\n",
              "      <td>0.154187</td>\n",
              "      <td>0.154187</td>\n",
              "      <td>0.193722</td>\n",
              "      <td>0.321674</td>\n",
              "      <td>0.014368</td>\n",
              "      <td>0.077762</td>\n",
              "      <td>0.148603</td>\n",
              "      <td>0.022046</td>\n",
              "      <td>0.848005</td>\n",
              "      <td>0.689110</td>\n",
              "      <td>0.689110</td>\n",
              "      <td>0.217568</td>\n",
              "      <td>4.880000e+09</td>\n",
              "      <td>0.000382</td>\n",
              "      <td>0.263371</td>\n",
              "      <td>0.384077</td>\n",
              "      <td>0.004194</td>\n",
              "      <td>0.002896</td>\n",
              "      <td>0.630228</td>\n",
              "      <td>0.009572</td>\n",
              "      <td>0.151465</td>\n",
              "      <td>0.848535</td>\n",
              "      <td>0.005047</td>\n",
              "      <td>...</td>\n",
              "      <td>0.225815</td>\n",
              "      <td>0.018851</td>\n",
              "      <td>0.002961</td>\n",
              "      <td>1.010646e-03</td>\n",
              "      <td>0.098715</td>\n",
              "      <td>0.348716</td>\n",
              "      <td>0.276580</td>\n",
              "      <td>0.003540</td>\n",
              "      <td>0.615848</td>\n",
              "      <td>0.729825</td>\n",
              "      <td>0.331509</td>\n",
              "      <td>0.022165</td>\n",
              "      <td>0.906902</td>\n",
              "      <td>0.001831</td>\n",
              "      <td>0.024161</td>\n",
              "      <td>8.140000e+09</td>\n",
              "      <td>6.050000e+09</td>\n",
              "      <td>0.593889</td>\n",
              "      <td>2.030000e+09</td>\n",
              "      <td>0.671519</td>\n",
              "      <td>0.559144</td>\n",
              "      <td>0.615848</td>\n",
              "      <td>0.331509</td>\n",
              "      <td>0.120760</td>\n",
              "      <td>0.579039</td>\n",
              "      <td>0.448518</td>\n",
              "      <td>0.604105</td>\n",
              "      <td>0.302382</td>\n",
              "      <td>0.067250</td>\n",
              "      <td>0</td>\n",
              "      <td>0.739555</td>\n",
              "      <td>0.003252</td>\n",
              "      <td>0.622929</td>\n",
              "      <td>0.583538</td>\n",
              "      <td>0.834697</td>\n",
              "      <td>0.281721</td>\n",
              "      <td>0.026697</td>\n",
              "      <td>0.564663</td>\n",
              "      <td>1</td>\n",
              "      <td>0.023982</td>\n",
              "    </tr>\n",
              "    <tr>\n",
              "      <th>4</th>\n",
              "      <td>1</td>\n",
              "      <td>0.465022</td>\n",
              "      <td>0.538432</td>\n",
              "      <td>0.522298</td>\n",
              "      <td>0.598783</td>\n",
              "      <td>0.598783</td>\n",
              "      <td>0.998973</td>\n",
              "      <td>0.797366</td>\n",
              "      <td>0.809304</td>\n",
              "      <td>0.303475</td>\n",
              "      <td>0.781550</td>\n",
              "      <td>7.890000e+09</td>\n",
              "      <td>0.0</td>\n",
              "      <td>0.462746</td>\n",
              "      <td>0.000686</td>\n",
              "      <td>0.0</td>\n",
              "      <td>0.167502</td>\n",
              "      <td>0.167502</td>\n",
              "      <td>0.167502</td>\n",
              "      <td>0.212537</td>\n",
              "      <td>0.319162</td>\n",
              "      <td>0.029690</td>\n",
              "      <td>0.096898</td>\n",
              "      <td>0.168412</td>\n",
              "      <td>0.022096</td>\n",
              "      <td>0.848258</td>\n",
              "      <td>0.689697</td>\n",
              "      <td>0.689697</td>\n",
              "      <td>0.217626</td>\n",
              "      <td>5.510000e+09</td>\n",
              "      <td>0.000439</td>\n",
              "      <td>0.265218</td>\n",
              "      <td>0.379690</td>\n",
              "      <td>0.006022</td>\n",
              "      <td>0.003727</td>\n",
              "      <td>0.636055</td>\n",
              "      <td>0.005150</td>\n",
              "      <td>0.106509</td>\n",
              "      <td>0.893491</td>\n",
              "      <td>0.005303</td>\n",
              "      <td>...</td>\n",
              "      <td>0.358380</td>\n",
              "      <td>0.014161</td>\n",
              "      <td>0.004275</td>\n",
              "      <td>6.804636e-04</td>\n",
              "      <td>0.110195</td>\n",
              "      <td>0.344639</td>\n",
              "      <td>0.287913</td>\n",
              "      <td>0.004869</td>\n",
              "      <td>0.975007</td>\n",
              "      <td>0.732000</td>\n",
              "      <td>0.330726</td>\n",
              "      <td>0.000000</td>\n",
              "      <td>0.913850</td>\n",
              "      <td>0.002224</td>\n",
              "      <td>0.026385</td>\n",
              "      <td>6.680000e+09</td>\n",
              "      <td>5.050000e+09</td>\n",
              "      <td>0.593915</td>\n",
              "      <td>8.240000e+08</td>\n",
              "      <td>0.671563</td>\n",
              "      <td>0.309555</td>\n",
              "      <td>0.975007</td>\n",
              "      <td>0.330726</td>\n",
              "      <td>0.110933</td>\n",
              "      <td>0.622374</td>\n",
              "      <td>0.454411</td>\n",
              "      <td>0.578469</td>\n",
              "      <td>0.311567</td>\n",
              "      <td>0.047725</td>\n",
              "      <td>0</td>\n",
              "      <td>0.795016</td>\n",
              "      <td>0.003878</td>\n",
              "      <td>0.623521</td>\n",
              "      <td>0.598782</td>\n",
              "      <td>0.839973</td>\n",
              "      <td>0.278514</td>\n",
              "      <td>0.024752</td>\n",
              "      <td>0.575617</td>\n",
              "      <td>1</td>\n",
              "      <td>0.035490</td>\n",
              "    </tr>\n",
              "  </tbody>\n",
              "</table>\n",
              "<p>5 rows × 96 columns</p>\n",
              "</div>\n",
              "      <button class=\"colab-df-convert\" onclick=\"convertToInteractive('df-99174922-7e4e-438b-bb3c-a5e059a33310')\"\n",
              "              title=\"Convert this dataframe to an interactive table.\"\n",
              "              style=\"display:none;\">\n",
              "        \n",
              "  <svg xmlns=\"http://www.w3.org/2000/svg\" height=\"24px\"viewBox=\"0 0 24 24\"\n",
              "       width=\"24px\">\n",
              "    <path d=\"M0 0h24v24H0V0z\" fill=\"none\"/>\n",
              "    <path d=\"M18.56 5.44l.94 2.06.94-2.06 2.06-.94-2.06-.94-.94-2.06-.94 2.06-2.06.94zm-11 1L8.5 8.5l.94-2.06 2.06-.94-2.06-.94L8.5 2.5l-.94 2.06-2.06.94zm10 10l.94 2.06.94-2.06 2.06-.94-2.06-.94-.94-2.06-.94 2.06-2.06.94z\"/><path d=\"M17.41 7.96l-1.37-1.37c-.4-.4-.92-.59-1.43-.59-.52 0-1.04.2-1.43.59L10.3 9.45l-7.72 7.72c-.78.78-.78 2.05 0 2.83L4 21.41c.39.39.9.59 1.41.59.51 0 1.02-.2 1.41-.59l7.78-7.78 2.81-2.81c.8-.78.8-2.07 0-2.86zM5.41 20L4 18.59l7.72-7.72 1.47 1.35L5.41 20z\"/>\n",
              "  </svg>\n",
              "      </button>\n",
              "      \n",
              "  <style>\n",
              "    .colab-df-container {\n",
              "      display:flex;\n",
              "      flex-wrap:wrap;\n",
              "      gap: 12px;\n",
              "    }\n",
              "\n",
              "    .colab-df-convert {\n",
              "      background-color: #E8F0FE;\n",
              "      border: none;\n",
              "      border-radius: 50%;\n",
              "      cursor: pointer;\n",
              "      display: none;\n",
              "      fill: #1967D2;\n",
              "      height: 32px;\n",
              "      padding: 0 0 0 0;\n",
              "      width: 32px;\n",
              "    }\n",
              "\n",
              "    .colab-df-convert:hover {\n",
              "      background-color: #E2EBFA;\n",
              "      box-shadow: 0px 1px 2px rgba(60, 64, 67, 0.3), 0px 1px 3px 1px rgba(60, 64, 67, 0.15);\n",
              "      fill: #174EA6;\n",
              "    }\n",
              "\n",
              "    [theme=dark] .colab-df-convert {\n",
              "      background-color: #3B4455;\n",
              "      fill: #D2E3FC;\n",
              "    }\n",
              "\n",
              "    [theme=dark] .colab-df-convert:hover {\n",
              "      background-color: #434B5C;\n",
              "      box-shadow: 0px 1px 3px 1px rgba(0, 0, 0, 0.15);\n",
              "      filter: drop-shadow(0px 1px 2px rgba(0, 0, 0, 0.3));\n",
              "      fill: #FFFFFF;\n",
              "    }\n",
              "  </style>\n",
              "\n",
              "      <script>\n",
              "        const buttonEl =\n",
              "          document.querySelector('#df-99174922-7e4e-438b-bb3c-a5e059a33310 button.colab-df-convert');\n",
              "        buttonEl.style.display =\n",
              "          google.colab.kernel.accessAllowed ? 'block' : 'none';\n",
              "\n",
              "        async function convertToInteractive(key) {\n",
              "          const element = document.querySelector('#df-99174922-7e4e-438b-bb3c-a5e059a33310');\n",
              "          const dataTable =\n",
              "            await google.colab.kernel.invokeFunction('convertToInteractive',\n",
              "                                                     [key], {});\n",
              "          if (!dataTable) return;\n",
              "\n",
              "          const docLinkHtml = 'Like what you see? Visit the ' +\n",
              "            '<a target=\"_blank\" href=https://colab.research.google.com/notebooks/data_table.ipynb>data table notebook</a>'\n",
              "            + ' to learn more about interactive tables.';\n",
              "          element.innerHTML = '';\n",
              "          dataTable['output_type'] = 'display_data';\n",
              "          await google.colab.output.renderOutput(dataTable, element);\n",
              "          const docLink = document.createElement('div');\n",
              "          docLink.innerHTML = docLinkHtml;\n",
              "          element.appendChild(docLink);\n",
              "        }\n",
              "      </script>\n",
              "    </div>\n",
              "  </div>\n",
              "  "
            ],
            "text/plain": [
              "   Bankrupt?  ...   Equity to Liability\n",
              "0          1  ...              0.016469\n",
              "1          1  ...              0.020794\n",
              "2          1  ...              0.016474\n",
              "3          1  ...              0.023982\n",
              "4          1  ...              0.035490\n",
              "\n",
              "[5 rows x 96 columns]"
            ]
          },
          "metadata": {},
          "execution_count": 3
        }
      ]
    },
    {
      "cell_type": "markdown",
      "source": [
        "## Exploratory Analysis"
      ],
      "metadata": {
        "id": "H2R3cFe3_uyR"
      }
    },
    {
      "cell_type": "code",
      "source": [
        "# shape of dataset\n",
        "data.shape"
      ],
      "metadata": {
        "colab": {
          "base_uri": "https://localhost:8080/"
        },
        "id": "qSoj_0OI-580",
        "outputId": "901b4e0f-32d1-49e4-89c8-7bafc31aae2e"
      },
      "execution_count": null,
      "outputs": [
        {
          "output_type": "execute_result",
          "data": {
            "text/plain": [
              "(6819, 96)"
            ]
          },
          "metadata": {},
          "execution_count": 3
        }
      ]
    },
    {
      "cell_type": "code",
      "source": [
        "# data types of each column\n",
        "data.info()"
      ],
      "metadata": {
        "colab": {
          "base_uri": "https://localhost:8080/"
        },
        "id": "jKVg2UTf_AXI",
        "outputId": "afe39add-bfd7-4160-8917-2f9b370fae6d"
      },
      "execution_count": null,
      "outputs": [
        {
          "output_type": "stream",
          "name": "stdout",
          "text": [
            "<class 'pandas.core.frame.DataFrame'>\n",
            "RangeIndex: 6819 entries, 0 to 6818\n",
            "Data columns (total 96 columns):\n",
            " #   Column                                                    Non-Null Count  Dtype  \n",
            "---  ------                                                    --------------  -----  \n",
            " 0   Bankrupt?                                                 6819 non-null   int64  \n",
            " 1    ROA(C) before interest and depreciation before interest  6819 non-null   float64\n",
            " 2    ROA(A) before interest and % after tax                   6819 non-null   float64\n",
            " 3    ROA(B) before interest and depreciation after tax        6819 non-null   float64\n",
            " 4    Operating Gross Margin                                   6819 non-null   float64\n",
            " 5    Realized Sales Gross Margin                              6819 non-null   float64\n",
            " 6    Operating Profit Rate                                    6819 non-null   float64\n",
            " 7    Pre-tax net Interest Rate                                6819 non-null   float64\n",
            " 8    After-tax net Interest Rate                              6819 non-null   float64\n",
            " 9    Non-industry income and expenditure/revenue              6819 non-null   float64\n",
            " 10   Continuous interest rate (after tax)                     6819 non-null   float64\n",
            " 11   Operating Expense Rate                                   6819 non-null   float64\n",
            " 12   Research and development expense rate                    6819 non-null   float64\n",
            " 13   Cash flow rate                                           6819 non-null   float64\n",
            " 14   Interest-bearing debt interest rate                      6819 non-null   float64\n",
            " 15   Tax rate (A)                                             6819 non-null   float64\n",
            " 16   Net Value Per Share (B)                                  6819 non-null   float64\n",
            " 17   Net Value Per Share (A)                                  6819 non-null   float64\n",
            " 18   Net Value Per Share (C)                                  6819 non-null   float64\n",
            " 19   Persistent EPS in the Last Four Seasons                  6819 non-null   float64\n",
            " 20   Cash Flow Per Share                                      6819 non-null   float64\n",
            " 21   Revenue Per Share (Yuan ¥)                               6819 non-null   float64\n",
            " 22   Operating Profit Per Share (Yuan ¥)                      6819 non-null   float64\n",
            " 23   Per Share Net profit before tax (Yuan ¥)                 6819 non-null   float64\n",
            " 24   Realized Sales Gross Profit Growth Rate                  6819 non-null   float64\n",
            " 25   Operating Profit Growth Rate                             6819 non-null   float64\n",
            " 26   After-tax Net Profit Growth Rate                         6819 non-null   float64\n",
            " 27   Regular Net Profit Growth Rate                           6819 non-null   float64\n",
            " 28   Continuous Net Profit Growth Rate                        6819 non-null   float64\n",
            " 29   Total Asset Growth Rate                                  6819 non-null   float64\n",
            " 30   Net Value Growth Rate                                    6819 non-null   float64\n",
            " 31   Total Asset Return Growth Rate Ratio                     6819 non-null   float64\n",
            " 32   Cash Reinvestment %                                      6819 non-null   float64\n",
            " 33   Current Ratio                                            6819 non-null   float64\n",
            " 34   Quick Ratio                                              6819 non-null   float64\n",
            " 35   Interest Expense Ratio                                   6819 non-null   float64\n",
            " 36   Total debt/Total net worth                               6819 non-null   float64\n",
            " 37   Debt ratio %                                             6819 non-null   float64\n",
            " 38   Net worth/Assets                                         6819 non-null   float64\n",
            " 39   Long-term fund suitability ratio (A)                     6819 non-null   float64\n",
            " 40   Borrowing dependency                                     6819 non-null   float64\n",
            " 41   Contingent liabilities/Net worth                         6819 non-null   float64\n",
            " 42   Operating profit/Paid-in capital                         6819 non-null   float64\n",
            " 43   Net profit before tax/Paid-in capital                    6819 non-null   float64\n",
            " 44   Inventory and accounts receivable/Net value              6819 non-null   float64\n",
            " 45   Total Asset Turnover                                     6819 non-null   float64\n",
            " 46   Accounts Receivable Turnover                             6819 non-null   float64\n",
            " 47   Average Collection Days                                  6819 non-null   float64\n",
            " 48   Inventory Turnover Rate (times)                          6819 non-null   float64\n",
            " 49   Fixed Assets Turnover Frequency                          6819 non-null   float64\n",
            " 50   Net Worth Turnover Rate (times)                          6819 non-null   float64\n",
            " 51   Revenue per person                                       6819 non-null   float64\n",
            " 52   Operating profit per person                              6819 non-null   float64\n",
            " 53   Allocation rate per person                               6819 non-null   float64\n",
            " 54   Working Capital to Total Assets                          6819 non-null   float64\n",
            " 55   Quick Assets/Total Assets                                6819 non-null   float64\n",
            " 56   Current Assets/Total Assets                              6819 non-null   float64\n",
            " 57   Cash/Total Assets                                        6819 non-null   float64\n",
            " 58   Quick Assets/Current Liability                           6819 non-null   float64\n",
            " 59   Cash/Current Liability                                   6819 non-null   float64\n",
            " 60   Current Liability to Assets                              6819 non-null   float64\n",
            " 61   Operating Funds to Liability                             6819 non-null   float64\n",
            " 62   Inventory/Working Capital                                6819 non-null   float64\n",
            " 63   Inventory/Current Liability                              6819 non-null   float64\n",
            " 64   Current Liabilities/Liability                            6819 non-null   float64\n",
            " 65   Working Capital/Equity                                   6819 non-null   float64\n",
            " 66   Current Liabilities/Equity                               6819 non-null   float64\n",
            " 67   Long-term Liability to Current Assets                    6819 non-null   float64\n",
            " 68   Retained Earnings to Total Assets                        6819 non-null   float64\n",
            " 69   Total income/Total expense                               6819 non-null   float64\n",
            " 70   Total expense/Assets                                     6819 non-null   float64\n",
            " 71   Current Asset Turnover Rate                              6819 non-null   float64\n",
            " 72   Quick Asset Turnover Rate                                6819 non-null   float64\n",
            " 73   Working capitcal Turnover Rate                           6819 non-null   float64\n",
            " 74   Cash Turnover Rate                                       6819 non-null   float64\n",
            " 75   Cash Flow to Sales                                       6819 non-null   float64\n",
            " 76   Fixed Assets to Assets                                   6819 non-null   float64\n",
            " 77   Current Liability to Liability                           6819 non-null   float64\n",
            " 78   Current Liability to Equity                              6819 non-null   float64\n",
            " 79   Equity to Long-term Liability                            6819 non-null   float64\n",
            " 80   Cash Flow to Total Assets                                6819 non-null   float64\n",
            " 81   Cash Flow to Liability                                   6819 non-null   float64\n",
            " 82   CFO to Assets                                            6819 non-null   float64\n",
            " 83   Cash Flow to Equity                                      6819 non-null   float64\n",
            " 84   Current Liability to Current Assets                      6819 non-null   float64\n",
            " 85   Liability-Assets Flag                                    6819 non-null   int64  \n",
            " 86   Net Income to Total Assets                               6819 non-null   float64\n",
            " 87   Total assets to GNP price                                6819 non-null   float64\n",
            " 88   No-credit Interval                                       6819 non-null   float64\n",
            " 89   Gross Profit to Sales                                    6819 non-null   float64\n",
            " 90   Net Income to Stockholder's Equity                       6819 non-null   float64\n",
            " 91   Liability to Equity                                      6819 non-null   float64\n",
            " 92   Degree of Financial Leverage (DFL)                       6819 non-null   float64\n",
            " 93   Interest Coverage Ratio (Interest expense to EBIT)       6819 non-null   float64\n",
            " 94   Net Income Flag                                          6819 non-null   int64  \n",
            " 95   Equity to Liability                                      6819 non-null   float64\n",
            "dtypes: float64(93), int64(3)\n",
            "memory usage: 5.0 MB\n"
          ]
        }
      ]
    },
    {
      "cell_type": "code",
      "source": [
        "# value counts for dependent variable: Bankrupt?\n",
        "data['Bankrupt?'].value_counts()"
      ],
      "metadata": {
        "colab": {
          "base_uri": "https://localhost:8080/"
        },
        "id": "GNTyu-Q1_Xvg",
        "outputId": "0b711e99-fe45-4702-f883-bf648387f71f"
      },
      "execution_count": null,
      "outputs": [
        {
          "output_type": "execute_result",
          "data": {
            "text/plain": [
              "0    6599\n",
              "1     220\n",
              "Name: Bankrupt?, dtype: int64"
            ]
          },
          "metadata": {},
          "execution_count": 5
        }
      ]
    },
    {
      "cell_type": "code",
      "source": [
        "# bar chart of 'Bankrupt?'\n",
        "sns.countplot(data=data, x='Bankrupt?')"
      ],
      "metadata": {
        "colab": {
          "base_uri": "https://localhost:8080/",
          "height": 296
        },
        "id": "6NjgC_Rk_oLU",
        "outputId": "5ebd5e9f-e2ab-4683-9cf9-4171c59df7d2"
      },
      "execution_count": null,
      "outputs": [
        {
          "output_type": "execute_result",
          "data": {
            "text/plain": [
              "<matplotlib.axes._subplots.AxesSubplot at 0x7f069a4ccc90>"
            ]
          },
          "metadata": {},
          "execution_count": 6
        },
        {
          "output_type": "display_data",
          "data": {
            "image/png": "[encoded data removed]",
            "text/plain": [
              "<Figure size 432x288 with 1 Axes>"
            ]
          },
          "metadata": {
            "needs_background": "light"
          }
        }
      ]
    },
    {
      "cell_type": "markdown",
      "source": [
        "All independent variables appear to be quantitative (not categorical) according to the info summary. Histograms of the distributions for these variables:"
      ],
      "metadata": {
        "id": "jI5P-LSpAt-_"
      }
    },
    {
      "cell_type": "code",
      "source": [
        "data.hist(bins = 50, figsize = (40, 30))\n",
        "plt.show()"
      ],
      "metadata": {
        "colab": {
          "base_uri": "https://localhost:8080/",
          "height": 1000
        },
        "id": "y1xEUpCsAkKE",
        "outputId": "99b0edb0-1560-44d6-e7f8-e7b675dc9e27"
      },
      "execution_count": null,
      "outputs": [
        {
          "output_type": "display_data",
          "data": {
            "image/png": "[encoded data removed]",
            "text/plain": [
              "<Figure size 2880x2160 with 100 Axes>"
            ]
          },
          "metadata": {
            "needs_background": "light"
          }
        }
      ]
    },
    {
      "cell_type": "code",
      "source": [
        "# generate correlation matrix for all variables\n",
        "corr_matrix = data.corr()\n",
        "\n",
        "# show correltation of each independent variable to the dependent variable\n",
        "print(corr_matrix)"
      ],
      "metadata": {
        "colab": {
          "base_uri": "https://localhost:8080/"
        },
        "id": "YpomtVF-CiJS",
        "outputId": "f08fe71c-fbc4-4709-ec39-2fc1d40f212f"
      },
      "execution_count": null,
      "outputs": [
        {
          "output_type": "stream",
          "name": "stdout",
          "text": [
            "                                                    Bankrupt?  ...   Equity to Liability\n",
            "Bankrupt?                                            1.000000  ...             -0.083048\n",
            " ROA(C) before interest and depreciation before...  -0.260807  ...              0.052416\n",
            " ROA(A) before interest and % after tax             -0.282941  ...              0.057887\n",
            " ROA(B) before interest and depreciation after tax  -0.273051  ...              0.056430\n",
            " Operating Gross Margin                             -0.100043  ...              0.120029\n",
            "...                                                       ...  ...                   ...\n",
            " Liability to Equity                                 0.166812  ...             -0.159654\n",
            " Degree of Financial Leverage (DFL)                  0.010508  ...             -0.016739\n",
            " Interest Coverage Ratio (Interest expense to E...  -0.005509  ...             -0.008339\n",
            " Net Income Flag                                          NaN  ...                   NaN\n",
            " Equity to Liability                                -0.083048  ...              1.000000\n",
            "\n",
            "[96 rows x 96 columns]\n"
          ]
        }
      ]
    },
    {
      "cell_type": "code",
      "source": [
        "corrM_df = pd.DataFrame(corr_matrix)\n",
        "\n",
        "br_corr = corrM_df['Bankrupt?'].sort_values(ascending=False)\n",
        "\n",
        "pd.set_option('display.max_rows', 97)\n",
        "print(br_corr)"
      ],
      "metadata": {
        "colab": {
          "base_uri": "https://localhost:8080/"
        },
        "id": "rEyZMGGlFTAN",
        "outputId": "4df8d81f-e754-4d0a-e8a8-ea32fe0dd884"
      },
      "execution_count": null,
      "outputs": [
        {
          "output_type": "stream",
          "name": "stdout",
          "text": [
            "Bankrupt?                                                   1.000000\n",
            " Debt ratio %                                               0.250161\n",
            " Current Liability to Assets                                0.194494\n",
            " Borrowing dependency                                       0.176543\n",
            " Current Liability to Current Assets                        0.171306\n",
            " Liability to Equity                                        0.166812\n",
            " Current Liabilities/Equity                                 0.153828\n",
            " Current Liability to Equity                                0.153828\n",
            " Liability-Assets Flag                                      0.139212\n",
            " Total expense/Assets                                       0.139049\n",
            " Equity to Long-term Liability                              0.139014\n",
            " Cash/Current Liability                                     0.077921\n",
            " Inventory and accounts receivable/Net value                0.075278\n",
            " Fixed Assets Turnover Frequency                            0.072818\n",
            " Contingent liabilities/Net worth                           0.070455\n",
            " Fixed Assets to Assets                                     0.066328\n",
            " Net Value Growth Rate                                      0.065329\n",
            " Revenue per person                                         0.039718\n",
            " Total assets to GNP price                                  0.035104\n",
            " Quick Asset Turnover Rate                                  0.025814\n",
            " Quick Ratio                                                0.025058\n",
            " Net Worth Turnover Rate (times)                            0.021089\n",
            " Long-term fund suitability ratio (A)                       0.016920\n",
            " Total debt/Total net worth                                 0.012314\n",
            " Current Asset Turnover Rate                                0.011929\n",
            " Degree of Financial Leverage (DFL)                         0.010508\n",
            " Allocation rate per person                                 0.002829\n",
            " Inventory/Current Liability                                0.000822\n",
            " Long-term Liability to Current Assets                      0.000778\n",
            " Cash Flow to Sales                                         0.000479\n",
            " Operating Profit Rate                                     -0.000230\n",
            " Realized Sales Gross Profit Growth Rate                   -0.000458\n",
            " Inventory Turnover Rate (times)                           -0.001376\n",
            " Inventory/Working Capital                                 -0.001906\n",
            " Current Ratio                                             -0.002211\n",
            " Interest Expense Ratio                                    -0.002681\n",
            " Working capitcal Turnover Rate                            -0.002894\n",
            " Quick Assets/Current Liability                            -0.003823\n",
            " Revenue Per Share (Yuan ¥)                                -0.004692\n",
            " Accounts Receivable Turnover                              -0.004754\n",
            " Interest Coverage Ratio (Interest expense to EBIT)        -0.005509\n",
            " No-credit Interval                                        -0.005547\n",
            " Operating Expense Rate                                    -0.006083\n",
            " Average Collection Days                                   -0.006556\n",
            " Total income/Total expense                                -0.007137\n",
            " Continuous interest rate (after tax)                      -0.008395\n",
            " Pre-tax net Interest Rate                                 -0.008517\n",
            " After-tax net Interest Rate                               -0.008857\n",
            " Continuous Net Profit Growth Rate                         -0.009401\n",
            " Operating Profit Growth Rate                              -0.015168\n",
            " Non-industry income and expenditure/revenue               -0.016593\n",
            " Total Asset Return Growth Rate Ratio                      -0.016858\n",
            " Cash Turnover Rate                                        -0.018035\n",
            " Current Liability to Liability                            -0.020809\n",
            " Current Liabilities/Liability                             -0.020809\n",
            " Interest-bearing debt interest rate                       -0.023063\n",
            " Research and development expense rate                     -0.024232\n",
            " Regular Net Profit Growth Rate                            -0.036820\n",
            " After-tax Net Profit Growth Rate                          -0.037783\n",
            " Cash Flow to Liability                                    -0.043125\n",
            " Total Asset Growth Rate                                   -0.044431\n",
            " Current Assets/Total Assets                               -0.044823\n",
            " Cash Reinvestment %                                       -0.051345\n",
            " Cash Flow to Equity                                       -0.058563\n",
            " Total Asset Turnover                                      -0.067915\n",
            " Cash Flow to Total Assets                                 -0.070456\n",
            " Cash flow rate                                            -0.072356\n",
            " Operating Funds to Liability                              -0.077082\n",
            " Cash Flow Per Share                                       -0.077516\n",
            " Equity to Liability                                       -0.083048\n",
            " Quick Assets/Total Assets                                 -0.086382\n",
            " Operating profit per person                               -0.092842\n",
            " Realized Sales Gross Margin                               -0.099445\n",
            " Operating Gross Margin                                    -0.100043\n",
            " Gross Profit to Sales                                     -0.100044\n",
            " Cash/Total Assets                                         -0.100130\n",
            " Tax rate (A)                                              -0.109706\n",
            " CFO to Assets                                             -0.115383\n",
            " Operating profit/Paid-in capital                          -0.141111\n",
            " Operating Profit Per Share (Yuan ¥)                       -0.142051\n",
            " Working Capital/Equity                                    -0.147221\n",
            " Net Value Per Share (C)                                   -0.164784\n",
            " Net Value Per Share (B)                                   -0.165399\n",
            " Net Value Per Share (A)                                   -0.165465\n",
            " Net Income to Stockholder's Equity                        -0.180987\n",
            " Working Capital to Total Assets                           -0.193083\n",
            " Per Share Net profit before tax (Yuan ¥)                  -0.201395\n",
            " Net profit before tax/Paid-in capital                     -0.207857\n",
            " Retained Earnings to Total Assets                         -0.217779\n",
            " Persistent EPS in the Last Four Seasons                   -0.219560\n",
            " Net worth/Assets                                          -0.250161\n",
            " ROA(C) before interest and depreciation before interest   -0.260807\n",
            " ROA(B) before interest and depreciation after tax         -0.273051\n",
            " ROA(A) before interest and % after tax                    -0.282941\n",
            " Net Income to Total Assets                                -0.315457\n",
            " Net Income Flag                                                 NaN\n",
            "Name: Bankrupt?, dtype: float64\n"
          ]
        }
      ]
    },
    {
      "cell_type": "markdown",
      "source": [
        "## Modeling - Supervised Learning Classification\n",
        "\n",
        "Split the data into 80% training set and 20% validation set, then build three models:\n",
        "\n",
        "\n",
        "*   SVM\n",
        "*   Logistic Regression\n",
        "*   Naive Bayes\n",
        "\n",
        "Evaluate each of the models' assumptions. Conduct hyperparameter tuning for the SVM kernel. Evaluate goodness of fit metrics, including TPR, FPR, precision, recall, and accuracy on the training and validation sets. Build ROC and Precision/Recall graphs. Evaluate each model's performance on the validation set using the F1-score.\n",
        "\n",
        "\n"
      ],
      "metadata": {
        "id": "WFsqYXUQJcjl"
      }
    },
    {
      "cell_type": "code",
      "source": [
        "# set seed for reproducibility\n",
        "np.random.seed(123)\n",
        "# train-test split\n",
        "X_train, X_test, y_train, y_test = train_test_split(data.iloc[:, 1:], data.iloc[:, 0], test_size=0.20)"
      ],
      "metadata": {
        "id": "x1-EuPIuLGw1"
      },
      "execution_count": 3,
      "outputs": []
    },
    {
      "cell_type": "markdown",
      "source": [
        "Applying MinMaxScaler on train and test sets: as we saw in the histograms of independent variables, some of our variables appear to resemble a normal distribution, but others have highly skewed distributions. MinMaxScaler is more appropriate than StandardScaler in cases where features have skewed distributions."
      ],
      "metadata": {
        "id": "gQHoA05wMvAj"
      }
    },
    {
      "cell_type": "code",
      "source": [
        "minmax = MinMaxScaler(feature_range=(0, 1))\n",
        "\n",
        "X_train = minmax.fit_transform(X_train)\n",
        "X_test = minmax.transform(X_test)"
      ],
      "metadata": {
        "id": "umqEry7XMsdg"
      },
      "execution_count": 4,
      "outputs": []
    },
    {
      "cell_type": "markdown",
      "source": [
        "### Support-Vector Machine (SVM)\n"
      ],
      "metadata": {
        "id": "BVnSefAmK0Yw"
      }
    },
    {
      "cell_type": "markdown",
      "source": [
        "#### Hyperparemeter Tuning\n",
        "\n"
      ],
      "metadata": {
        "id": "5bUWrOIdPNRc"
      }
    },
    {
      "cell_type": "code",
      "source": [
        "SVC().get_params()"
      ],
      "metadata": {
        "colab": {
          "base_uri": "https://localhost:8080/"
        },
        "id": "2k8ZRiUSL4j_",
        "outputId": "05c93162-c129-4072-e273-b7d0a7bbd402"
      },
      "execution_count": null,
      "outputs": [
        {
          "output_type": "execute_result",
          "data": {
            "text/plain": [
              "{'C': 1.0,\n",
              " 'break_ties': False,\n",
              " 'cache_size': 200,\n",
              " 'class_weight': None,\n",
              " 'coef0': 0.0,\n",
              " 'decision_function_shape': 'ovr',\n",
              " 'degree': 3,\n",
              " 'gamma': 'scale',\n",
              " 'kernel': 'rbf',\n",
              " 'max_iter': -1,\n",
              " 'probability': False,\n",
              " 'random_state': None,\n",
              " 'shrinking': True,\n",
              " 'tol': 0.001,\n",
              " 'verbose': False}"
            ]
          },
          "metadata": {},
          "execution_count": 12
        }
      ]
    },
    {
      "cell_type": "code",
      "source": [
        "params = {'C': [1, 10, 100, 1000],\n",
        "          'kernel': ['linear', 'rbf'],\n",
        "          'gamma': [0.001, 0.0001],\n",
        "          'class_weight': ['balanced', None]}"
      ],
      "metadata": {
        "id": "OaU9RSwRPy50"
      },
      "execution_count": null,
      "outputs": []
    },
    {
      "cell_type": "code",
      "source": [
        "grid_svm = GridSearchCV(SVC(), params, scoring = 'roc_auc', verbose = 1)"
      ],
      "metadata": {
        "id": "1Dj8Oj8hQiqY"
      },
      "execution_count": null,
      "outputs": []
    },
    {
      "cell_type": "code",
      "source": [
        "grid_svm.fit(X_train, y_train)"
      ],
      "metadata": {
        "colab": {
          "base_uri": "https://localhost:8080/"
        },
        "id": "Ssc78r6mRBIs",
        "outputId": "a8d60ec0-2081-4c4b-8c40-3daf513223b4"
      },
      "execution_count": null,
      "outputs": [
        {
          "output_type": "stream",
          "name": "stdout",
          "text": [
            "Fitting 5 folds for each of 32 candidates, totalling 160 fits\n"
          ]
        },
        {
          "output_type": "execute_result",
          "data": {
            "text/plain": [
              "GridSearchCV(estimator=SVC(),\n",
              "             param_grid={'C': [1, 10, 100, 1000],\n",
              "                         'class_weight': ['balanced', None],\n",
              "                         'gamma': [0.001, 0.0001],\n",
              "                         'kernel': ['linear', 'rbf']},\n",
              "             scoring='roc_auc', verbose=1)"
            ]
          },
          "metadata": {},
          "execution_count": 15
        }
      ]
    },
    {
      "cell_type": "code",
      "source": [
        "grid_svm.best_estimator_"
      ],
      "metadata": {
        "colab": {
          "base_uri": "https://localhost:8080/"
        },
        "id": "vHukbR8WRYIC",
        "outputId": "a40c8096-d6f4-4da3-d975-99978cce201f"
      },
      "execution_count": null,
      "outputs": [
        {
          "output_type": "execute_result",
          "data": {
            "text/plain": [
              "SVC(C=1, class_weight='balanced', gamma=0.001, kernel='linear')"
            ]
          },
          "metadata": {},
          "execution_count": 16
        }
      ]
    },
    {
      "cell_type": "code",
      "source": [
        "grid_svm.best_score_"
      ],
      "metadata": {
        "colab": {
          "base_uri": "https://localhost:8080/"
        },
        "id": "9YqQ99GgRaG4",
        "outputId": "4bcb9d1e-14b2-40f8-b0ce-511967cac08a"
      },
      "execution_count": null,
      "outputs": [
        {
          "output_type": "execute_result",
          "data": {
            "text/plain": [
              "0.9336006307664715"
            ]
          },
          "metadata": {},
          "execution_count": 17
        }
      ]
    },
    {
      "cell_type": "markdown",
      "source": [
        "#### SVM Final Model"
      ],
      "metadata": {
        "id": "FNqD3pndSpTw"
      }
    },
    {
      "cell_type": "code",
      "source": [
        "# fit svm model with best performing hyperparameters\n",
        "svm_final = SVC(C=1, class_weight='balanced', gamma=0.001, kernel='linear').fit(X_train, y_train)"
      ],
      "metadata": {
        "id": "22WhuePPSxDP"
      },
      "execution_count": null,
      "outputs": []
    },
    {
      "cell_type": "code",
      "source": [
        "# generate predictions on test data\n",
        "svm_pred = svm_final.predict(X_test)"
      ],
      "metadata": {
        "id": "6mdf6BvITz_h"
      },
      "execution_count": null,
      "outputs": []
    },
    {
      "cell_type": "code",
      "source": [
        "print(classification_report(y_test, svm_pred))"
      ],
      "metadata": {
        "colab": {
          "base_uri": "https://localhost:8080/"
        },
        "id": "myhyAWJvT8Fv",
        "outputId": "09c831a7-ff7e-4ddd-d260-9305d5ec7185"
      },
      "execution_count": null,
      "outputs": [
        {
          "output_type": "stream",
          "name": "stdout",
          "text": [
            "              precision    recall  f1-score   support\n",
            "\n",
            "           0       0.99      0.87      0.93      1327\n",
            "           1       0.14      0.78      0.24        37\n",
            "\n",
            "    accuracy                           0.87      1364\n",
            "   macro avg       0.57      0.83      0.58      1364\n",
            "weighted avg       0.97      0.87      0.91      1364\n",
            "\n"
          ]
        }
      ]
    },
    {
      "cell_type": "code",
      "source": [
        "print('Accuracy: ', accuracy_score(y_test, svm_pred))"
      ],
      "metadata": {
        "colab": {
          "base_uri": "https://localhost:8080/"
        },
        "id": "WZeCCdl_ViC1",
        "outputId": "cd78c97a-fae2-456b-9dcf-5754f4d80ccf"
      },
      "execution_count": null,
      "outputs": [
        {
          "output_type": "stream",
          "name": "stdout",
          "text": [
            "Accuracy:  0.8673020527859238\n"
          ]
        }
      ]
    },
    {
      "cell_type": "code",
      "source": [
        "svm_cm = confusion_matrix(y_test, svm_pred)\n",
        "print(svm_cm)"
      ],
      "metadata": {
        "colab": {
          "base_uri": "https://localhost:8080/"
        },
        "id": "_25Qy_8ZUU69",
        "outputId": "9b66a971-85f4-4963-ff87-b2b24fa61467"
      },
      "execution_count": null,
      "outputs": [
        {
          "output_type": "stream",
          "name": "stdout",
          "text": [
            "[[1154  173]\n",
            " [   8   29]]\n"
          ]
        }
      ]
    },
    {
      "cell_type": "code",
      "source": [
        "# from confusion matrix: count of each prediction result\n",
        "svm_tn = svm_cm[0][0]\n",
        "print('True Negatives: ', svm_tn)\n",
        "svm_fn = svm_cm[1][0]\n",
        "print('False Negatives: ', svm_fn)\n",
        "svm_tp = svm_cm[1][1]\n",
        "print('True Positives: ', svm_tp)\n",
        "svm_fp = svm_cm[0][1]\n",
        "print('False Positives: ', svm_fp)"
      ],
      "metadata": {
        "colab": {
          "base_uri": "https://localhost:8080/"
        },
        "id": "wWMqqi0AUtA1",
        "outputId": "7eca25b6-ffc3-456a-c9ed-463cf0c128c3"
      },
      "execution_count": null,
      "outputs": [
        {
          "output_type": "stream",
          "name": "stdout",
          "text": [
            "True Negatives:  1154\n",
            "False Negatives:  8\n",
            "True Positives:  29\n",
            "False Positives:  173\n"
          ]
        }
      ]
    },
    {
      "cell_type": "code",
      "source": [
        "# tpr\n",
        "print('TPR: ', svm_tp/(svm_tp + svm_fn))\n",
        "# fpr\n",
        "print('FPR: ', svm_fp/(svm_fp + svm_tn))\n",
        "# tnr\n",
        "print('TNR: ', svm_tn/(svm_tn + svm_fp))\n",
        "# fnr\n",
        "print('FNR: ', svm_fn/(svm_fn + svm_tp))"
      ],
      "metadata": {
        "colab": {
          "base_uri": "https://localhost:8080/"
        },
        "id": "eyHYf_MvY74I",
        "outputId": "cd3c420a-1ec1-49ae-8a8e-2a3865ac5cf9"
      },
      "execution_count": null,
      "outputs": [
        {
          "output_type": "stream",
          "name": "stdout",
          "text": [
            "TPR:  0.7837837837837838\n",
            "FPR:  0.1303692539562924\n",
            "TNR:  0.8696307460437076\n",
            "FNR:  0.21621621621621623\n"
          ]
        }
      ]
    },
    {
      "cell_type": "code",
      "source": [
        "# generate ROC curve\n",
        "fpr, tpr, thresholds = roc_curve(y_test, svm_pred)\n",
        "roc_auc = auc(fpr, tpr)\n",
        "\n",
        "rocdisplay = RocCurveDisplay(fpr=fpr, tpr=tpr, roc_auc=roc_auc, estimator_name='SVM')\n",
        "rocdisplay.plot()"
      ],
      "metadata": {
        "colab": {
          "base_uri": "https://localhost:8080/",
          "height": 296
        },
        "id": "vwlPAdngV4GE",
        "outputId": "23118b44-2afc-4c51-c673-12e41a20c545"
      },
      "execution_count": null,
      "outputs": [
        {
          "output_type": "execute_result",
          "data": {
            "text/plain": [
              "<sklearn.metrics._plot.roc_curve.RocCurveDisplay at 0x7f06846a5690>"
            ]
          },
          "metadata": {},
          "execution_count": 25
        },
        {
          "output_type": "display_data",
          "data": {
            "image/png": "[encoded data removed]",
            "text/plain": [
              "<Figure size 432x288 with 1 Axes>"
            ]
          },
          "metadata": {
            "needs_background": "light"
          }
        }
      ]
    },
    {
      "cell_type": "code",
      "source": [
        "# generate precision-recall graph\n",
        "prdisplay = PrecisionRecallDisplay.from_predictions(y_test, svm_pred, name='SVM')"
      ],
      "metadata": {
        "colab": {
          "base_uri": "https://localhost:8080/",
          "height": 279
        },
        "id": "KRpdEjD7WsKw",
        "outputId": "d24c28d9-7394-4405-ec06-8304e5d4f39b"
      },
      "execution_count": null,
      "outputs": [
        {
          "output_type": "display_data",
          "data": {
            "image/png": "[encoded data removed]",
            "text/plain": [
              "<Figure size 432x288 with 1 Axes>"
            ]
          },
          "metadata": {
            "needs_background": "light"
          }
        }
      ]
    },
    {
      "cell_type": "markdown",
      "source": [
        "#### SVM Final Model Summary\n",
        "\n",
        "The SVM model did not perform well on this imbalanced dataset, even with the best performing hyperparameters applied. This model had a high rate of false positives, as evidenced by the low precision score of 14% among true-bankrupt companies. "
      ],
      "metadata": {
        "id": "zHfsD6r2XOQm"
      }
    },
    {
      "cell_type": "markdown",
      "source": [
        "### Logistic Regression\n"
      ],
      "metadata": {
        "id": "36pgcoStadrk"
      }
    },
    {
      "cell_type": "markdown",
      "source": [
        "#### Hyperparameter Tuning"
      ],
      "metadata": {
        "id": "GKYcYTeFah9d"
      }
    },
    {
      "cell_type": "code",
      "source": [
        "LogisticRegression().get_params()"
      ],
      "metadata": {
        "colab": {
          "base_uri": "https://localhost:8080/"
        },
        "id": "gicxejHzakYF",
        "outputId": "26cb6125-af4a-4990-9389-53875203404c"
      },
      "execution_count": null,
      "outputs": [
        {
          "output_type": "execute_result",
          "data": {
            "text/plain": [
              "{'C': 1.0,\n",
              " 'class_weight': None,\n",
              " 'dual': False,\n",
              " 'fit_intercept': True,\n",
              " 'intercept_scaling': 1,\n",
              " 'l1_ratio': None,\n",
              " 'max_iter': 100,\n",
              " 'multi_class': 'auto',\n",
              " 'n_jobs': None,\n",
              " 'penalty': 'l2',\n",
              " 'random_state': None,\n",
              " 'solver': 'lbfgs',\n",
              " 'tol': 0.0001,\n",
              " 'verbose': 0,\n",
              " 'warm_start': False}"
            ]
          },
          "metadata": {},
          "execution_count": 27
        }
      ]
    },
    {
      "cell_type": "code",
      "source": [
        "params = {'C': [1, 10, 100, 1000],\n",
        "          'class_weight': ['balanced', None],\n",
        "          'max_iter': [10000, 100000]}"
      ],
      "metadata": {
        "id": "0tsGKrWJatx1"
      },
      "execution_count": null,
      "outputs": []
    },
    {
      "cell_type": "code",
      "source": [
        "grid_logistic = GridSearchCV(LogisticRegression(), params, scoring = 'roc_auc', verbose = 1)"
      ],
      "metadata": {
        "id": "1yjclHxKbHbT"
      },
      "execution_count": null,
      "outputs": []
    },
    {
      "cell_type": "code",
      "source": [
        "grid_logistic.fit(X_train, y_train)"
      ],
      "metadata": {
        "colab": {
          "base_uri": "https://localhost:8080/"
        },
        "id": "8nRYAgeybPe3",
        "outputId": "d86571f6-1069-4bdc-a6db-dbfcc0017138"
      },
      "execution_count": null,
      "outputs": [
        {
          "output_type": "stream",
          "name": "stdout",
          "text": [
            "Fitting 5 folds for each of 16 candidates, totalling 80 fits\n"
          ]
        },
        {
          "output_type": "execute_result",
          "data": {
            "text/plain": [
              "GridSearchCV(estimator=LogisticRegression(),\n",
              "             param_grid={'C': [1, 10, 100, 1000],\n",
              "                         'class_weight': ['balanced', None],\n",
              "                         'max_iter': [10000, 100000]},\n",
              "             scoring='roc_auc', verbose=1)"
            ]
          },
          "metadata": {},
          "execution_count": 30
        }
      ]
    },
    {
      "cell_type": "code",
      "source": [
        "grid_logistic.best_estimator_"
      ],
      "metadata": {
        "colab": {
          "base_uri": "https://localhost:8080/"
        },
        "id": "iacEnkaXcayT",
        "outputId": "e2c0c633-bb85-4e5a-e3d2-4a8b86d15376"
      },
      "execution_count": null,
      "outputs": [
        {
          "output_type": "execute_result",
          "data": {
            "text/plain": [
              "LogisticRegression(C=1, class_weight='balanced', max_iter=10000)"
            ]
          },
          "metadata": {},
          "execution_count": 31
        }
      ]
    },
    {
      "cell_type": "code",
      "source": [
        "grid_logistic.best_score_"
      ],
      "metadata": {
        "colab": {
          "base_uri": "https://localhost:8080/"
        },
        "id": "nN7u6cztduVc",
        "outputId": "5d7920e9-2707-48e6-9f71-a70c0f782dc5"
      },
      "execution_count": null,
      "outputs": [
        {
          "output_type": "execute_result",
          "data": {
            "text/plain": [
              "0.9330261267499683"
            ]
          },
          "metadata": {},
          "execution_count": 32
        }
      ]
    },
    {
      "cell_type": "markdown",
      "source": [
        "#### Logistic Regression Final Model"
      ],
      "metadata": {
        "id": "q00CqL0ZdzuY"
      }
    },
    {
      "cell_type": "code",
      "source": [
        "# fit logistic regression model with best performing hyperparameters\n",
        "lr_final = LogisticRegression(C=1, class_weight='balanced', max_iter=10000).fit(X_train, y_train)"
      ],
      "metadata": {
        "id": "sh6uqGKBd2ck"
      },
      "execution_count": null,
      "outputs": []
    },
    {
      "cell_type": "code",
      "source": [
        "# generate predictions on test data\n",
        "lr_pred = lr_final.predict(X_test)"
      ],
      "metadata": {
        "id": "A_MPcER5d_37"
      },
      "execution_count": null,
      "outputs": []
    },
    {
      "cell_type": "code",
      "source": [
        "print(classification_report(y_test, lr_pred))"
      ],
      "metadata": {
        "colab": {
          "base_uri": "https://localhost:8080/"
        },
        "id": "muveeMGfePup",
        "outputId": "13301872-5e19-44e3-9738-c139d9e742bf"
      },
      "execution_count": null,
      "outputs": [
        {
          "output_type": "stream",
          "name": "stdout",
          "text": [
            "              precision    recall  f1-score   support\n",
            "\n",
            "           0       0.99      0.87      0.93      1327\n",
            "           1       0.15      0.81      0.25        37\n",
            "\n",
            "    accuracy                           0.87      1364\n",
            "   macro avg       0.57      0.84      0.59      1364\n",
            "weighted avg       0.97      0.87      0.91      1364\n",
            "\n"
          ]
        }
      ]
    },
    {
      "cell_type": "code",
      "source": [
        "print('Accuracy: ', accuracy_score(y_test, lr_pred))"
      ],
      "metadata": {
        "colab": {
          "base_uri": "https://localhost:8080/"
        },
        "id": "jDMzIEXpedEp",
        "outputId": "eabdf534-c64e-4a31-ea51-8b4cfff846db"
      },
      "execution_count": null,
      "outputs": [
        {
          "output_type": "stream",
          "name": "stdout",
          "text": [
            "Accuracy:  0.8680351906158358\n"
          ]
        }
      ]
    },
    {
      "cell_type": "code",
      "source": [
        "lr_cm = confusion_matrix(y_test, lr_pred)\n",
        "print(lr_cm)"
      ],
      "metadata": {
        "colab": {
          "base_uri": "https://localhost:8080/"
        },
        "id": "96FOvoGbeiRy",
        "outputId": "3809ba7d-7483-4d8d-d780-78663efdf5e6"
      },
      "execution_count": null,
      "outputs": [
        {
          "output_type": "stream",
          "name": "stdout",
          "text": [
            "[[1154  173]\n",
            " [   7   30]]\n"
          ]
        }
      ]
    },
    {
      "cell_type": "code",
      "source": [
        "# from confusion matrix: count of each prediction result\n",
        "lr_tn = lr_cm[0][0]\n",
        "print('True Negatives: ', lr_tn)\n",
        "lr_fn = lr_cm[1][0]\n",
        "print('False Negatives: ', lr_fn)\n",
        "lr_tp = lr_cm[1][1]\n",
        "print('True Positives: ', lr_tp)\n",
        "lr_fp = lr_cm[0][1]\n",
        "print('False Positives: ', lr_fp)"
      ],
      "metadata": {
        "colab": {
          "base_uri": "https://localhost:8080/"
        },
        "id": "nFrBO8cTenCo",
        "outputId": "5da0d501-fea0-4e24-944b-f7dc0ce568ab"
      },
      "execution_count": null,
      "outputs": [
        {
          "output_type": "stream",
          "name": "stdout",
          "text": [
            "True Negatives:  1154\n",
            "False Negatives:  7\n",
            "True Positives:  30\n",
            "False Positives:  173\n"
          ]
        }
      ]
    },
    {
      "cell_type": "code",
      "source": [
        "# tpr\n",
        "print('TPR: ', lr_tp/(lr_tp + lr_fn))\n",
        "# fpr\n",
        "print('FPR: ', lr_fp/(lr_fp + lr_tn))\n",
        "# tnr\n",
        "print('TNR: ', lr_tn/(lr_tn + lr_fp))\n",
        "# fnr\n",
        "print('FNR: ', lr_fn/(lr_fn + lr_tp))"
      ],
      "metadata": {
        "colab": {
          "base_uri": "https://localhost:8080/"
        },
        "id": "4qfatsC7e2uP",
        "outputId": "1cc6bd16-6281-47f8-f570-7beb1eb1b202"
      },
      "execution_count": null,
      "outputs": [
        {
          "output_type": "stream",
          "name": "stdout",
          "text": [
            "TPR:  0.8108108108108109\n",
            "FPR:  0.1303692539562924\n",
            "TNR:  0.8696307460437076\n",
            "FNR:  0.1891891891891892\n"
          ]
        }
      ]
    },
    {
      "cell_type": "code",
      "source": [
        "# generate ROC curve\n",
        "fpr, tpr, thresholds = roc_curve(y_test, lr_pred)\n",
        "roc_auc = auc(fpr, tpr)\n",
        "\n",
        "rocdisplay = RocCurveDisplay(fpr=fpr, tpr=tpr, roc_auc=roc_auc, estimator_name='Logistic Regression')\n",
        "rocdisplay.plot()"
      ],
      "metadata": {
        "colab": {
          "base_uri": "https://localhost:8080/",
          "height": 296
        },
        "id": "N0uBpyQLfAPO",
        "outputId": "f86bb3bb-92ea-4d64-f04c-48c06dcb8587"
      },
      "execution_count": null,
      "outputs": [
        {
          "output_type": "execute_result",
          "data": {
            "text/plain": [
              "<sklearn.metrics._plot.roc_curve.RocCurveDisplay at 0x7f06802db750>"
            ]
          },
          "metadata": {},
          "execution_count": 40
        },
        {
          "output_type": "display_data",
          "data": {
            "image/png": "[encoded data removed]",
            "text/plain": [
              "<Figure size 432x288 with 1 Axes>"
            ]
          },
          "metadata": {
            "needs_background": "light"
          }
        }
      ]
    },
    {
      "cell_type": "code",
      "source": [
        "# generate precision-recall graph\n",
        "prdisplay = PrecisionRecallDisplay.from_predictions(y_test, lr_pred, name='Logistic Regression')"
      ],
      "metadata": {
        "colab": {
          "base_uri": "https://localhost:8080/",
          "height": 279
        },
        "id": "JMVcWUWFjZLS",
        "outputId": "5a305853-f7a8-4551-a7e3-001e0fd07565"
      },
      "execution_count": null,
      "outputs": [
        {
          "output_type": "display_data",
          "data": {
            "image/png": "[encoded data removed]",
            "text/plain": [
              "<Figure size 432x288 with 1 Axes>"
            ]
          },
          "metadata": {
            "needs_background": "light"
          }
        }
      ]
    },
    {
      "cell_type": "markdown",
      "source": [
        "#### Logistic Regression Final Model Summary\n",
        "\n",
        "The logistic regression performed similarly to the SVM model; it has a similiarly high rate of false positives, and low precision among those companies with true bankruptcy = 1."
      ],
      "metadata": {
        "id": "EW9p0lHejiDY"
      }
    },
    {
      "cell_type": "markdown",
      "source": [
        "### Naive Bayes"
      ],
      "metadata": {
        "id": "y5TH3PATjlaS"
      }
    },
    {
      "cell_type": "markdown",
      "source": [
        "#### Hyperparameter Tuning"
      ],
      "metadata": {
        "id": "UTLXnUCzj9zo"
      }
    },
    {
      "cell_type": "code",
      "source": [
        "params = {'alpha': [0.001, 0.01, 0.1, 1, 5, 10, 20]}"
      ],
      "metadata": {
        "id": "uMD5T4B8jp5f"
      },
      "execution_count": null,
      "outputs": []
    },
    {
      "cell_type": "code",
      "source": [
        "grid_nb = GridSearchCV(ComplementNB(), params, scoring = 'roc_auc', verbose=1)"
      ],
      "metadata": {
        "id": "qfnXf-VvnVh8"
      },
      "execution_count": null,
      "outputs": []
    },
    {
      "cell_type": "code",
      "source": [
        "grid_nb.fit(X_train, y_train)"
      ],
      "metadata": {
        "colab": {
          "base_uri": "https://localhost:8080/"
        },
        "id": "OGyQBk2Hnfq4",
        "outputId": "bab107f3-c23b-42b8-e569-369beec12c02"
      },
      "execution_count": null,
      "outputs": [
        {
          "output_type": "stream",
          "name": "stdout",
          "text": [
            "Fitting 5 folds for each of 7 candidates, totalling 35 fits\n"
          ]
        },
        {
          "output_type": "execute_result",
          "data": {
            "text/plain": [
              "GridSearchCV(estimator=ComplementNB(),\n",
              "             param_grid={'alpha': [0.001, 0.01, 0.1, 1, 5, 10, 20]},\n",
              "             scoring='roc_auc', verbose=1)"
            ]
          },
          "metadata": {},
          "execution_count": 44
        }
      ]
    },
    {
      "cell_type": "code",
      "source": [
        "grid_nb.best_estimator_"
      ],
      "metadata": {
        "colab": {
          "base_uri": "https://localhost:8080/"
        },
        "id": "27SyrUvSnjXN",
        "outputId": "46fc804c-23ec-4f83-fcab-08f8c015ce9c"
      },
      "execution_count": null,
      "outputs": [
        {
          "output_type": "execute_result",
          "data": {
            "text/plain": [
              "ComplementNB(alpha=1)"
            ]
          },
          "metadata": {},
          "execution_count": 45
        }
      ]
    },
    {
      "cell_type": "code",
      "source": [
        "grid_nb.best_score_"
      ],
      "metadata": {
        "colab": {
          "base_uri": "https://localhost:8080/"
        },
        "id": "GUkyDRdOnnBJ",
        "outputId": "77f43a41-bab9-4078-8d03-4bb8f2236c64"
      },
      "execution_count": null,
      "outputs": [
        {
          "output_type": "execute_result",
          "data": {
            "text/plain": [
              "0.8568187820544448"
            ]
          },
          "metadata": {},
          "execution_count": 46
        }
      ]
    },
    {
      "cell_type": "markdown",
      "source": [
        "#### Naive Bayes Final Model"
      ],
      "metadata": {
        "id": "AtXXN7BQj-wH"
      }
    },
    {
      "cell_type": "code",
      "source": [
        "# fit naive bayes model with best performing hyperparameters\n",
        "nb_final = ComplementNB(alpha = 1).fit(X_train, y_train)"
      ],
      "metadata": {
        "id": "wjX7ICYCj8rP"
      },
      "execution_count": null,
      "outputs": []
    },
    {
      "cell_type": "code",
      "source": [
        "# generate predictions on test data\n",
        "nb_pred = nb_final.predict(X_test)"
      ],
      "metadata": {
        "id": "xzWgPxM7n6Tb"
      },
      "execution_count": null,
      "outputs": []
    },
    {
      "cell_type": "code",
      "source": [
        "print(classification_report(y_test, nb_pred))"
      ],
      "metadata": {
        "colab": {
          "base_uri": "https://localhost:8080/"
        },
        "id": "0uDKuTqkn-qR",
        "outputId": "e5a2ee38-e18a-4387-e1f3-f57564885904"
      },
      "execution_count": null,
      "outputs": [
        {
          "output_type": "stream",
          "name": "stdout",
          "text": [
            "              precision    recall  f1-score   support\n",
            "\n",
            "           0       0.99      0.87      0.93      1327\n",
            "           1       0.13      0.65      0.21        37\n",
            "\n",
            "    accuracy                           0.87      1364\n",
            "   macro avg       0.56      0.76      0.57      1364\n",
            "weighted avg       0.97      0.87      0.91      1364\n",
            "\n"
          ]
        }
      ]
    },
    {
      "cell_type": "code",
      "source": [
        "print('Accuracy: ', accuracy_score(y_test, nb_pred))"
      ],
      "metadata": {
        "colab": {
          "base_uri": "https://localhost:8080/"
        },
        "id": "9IaD8W_Roajz",
        "outputId": "13ef8038-8be2-4adf-f908-2a8946baa0cd"
      },
      "execution_count": null,
      "outputs": [
        {
          "output_type": "stream",
          "name": "stdout",
          "text": [
            "Accuracy:  0.8687683284457478\n"
          ]
        }
      ]
    },
    {
      "cell_type": "code",
      "source": [
        "nb_cm = confusion_matrix(y_test, nb_pred)\n",
        "print(nb_cm)"
      ],
      "metadata": {
        "colab": {
          "base_uri": "https://localhost:8080/"
        },
        "id": "gjBCr4ynofxp",
        "outputId": "e36942ea-cc0e-404d-cf41-ecb5d917fa95"
      },
      "execution_count": null,
      "outputs": [
        {
          "output_type": "stream",
          "name": "stdout",
          "text": [
            "[[1161  166]\n",
            " [  13   24]]\n"
          ]
        }
      ]
    },
    {
      "cell_type": "code",
      "source": [
        "# from confusion matrix: count of each prediction result\n",
        "nb_tn = nb_cm[0][0]\n",
        "print('True Negatives: ', nb_tn)\n",
        "nb_fn = nb_cm[1][0]\n",
        "print('False Negatives: ', nb_fn)\n",
        "nb_tp = nb_cm[1][1]\n",
        "print('True Positives: ', nb_tp)\n",
        "nb_fp = nb_cm[0][1]\n",
        "print('False Positives: ', nb_fp)"
      ],
      "metadata": {
        "colab": {
          "base_uri": "https://localhost:8080/"
        },
        "id": "OoZSyvnqoi-4",
        "outputId": "b47d9657-0680-4ce0-dff3-9713038ca690"
      },
      "execution_count": null,
      "outputs": [
        {
          "output_type": "stream",
          "name": "stdout",
          "text": [
            "True Negatives:  1161\n",
            "False Negatives:  13\n",
            "True Positives:  24\n",
            "False Positives:  166\n"
          ]
        }
      ]
    },
    {
      "cell_type": "code",
      "source": [
        "# tpr\n",
        "print('TPR: ', nb_tp/(nb_tp + nb_fn))\n",
        "# fpr\n",
        "print('FPR: ', nb_fp/(nb_fp + nb_tn))\n",
        "# tnr\n",
        "print('TNR: ', nb_tn/(nb_tn + nb_fp))\n",
        "# fnr\n",
        "print('FNR: ', nb_fn/(nb_fn + nb_tp))"
      ],
      "metadata": {
        "colab": {
          "base_uri": "https://localhost:8080/"
        },
        "id": "Zm-cetUxov-n",
        "outputId": "30cf65a0-0bcd-455b-fa38-7799efbcc882"
      },
      "execution_count": null,
      "outputs": [
        {
          "output_type": "stream",
          "name": "stdout",
          "text": [
            "TPR:  0.6486486486486487\n",
            "FPR:  0.12509419743782968\n",
            "TNR:  0.8749058025621703\n",
            "FNR:  0.35135135135135137\n"
          ]
        }
      ]
    },
    {
      "cell_type": "code",
      "source": [
        "# generate ROC curve\n",
        "fpr, tpr, thresholds = roc_curve(y_test, nb_pred)\n",
        "roc_auc = auc(fpr, tpr)\n",
        "\n",
        "rocdisplay = RocCurveDisplay(fpr=fpr, tpr=tpr, roc_auc=roc_auc, estimator_name='Naive Bayes')\n",
        "rocdisplay.plot()"
      ],
      "metadata": {
        "colab": {
          "base_uri": "https://localhost:8080/",
          "height": 296
        },
        "id": "cBmhrxn1o-Vg",
        "outputId": "a9b85abc-e076-40bd-baf4-fc594239ba12"
      },
      "execution_count": null,
      "outputs": [
        {
          "output_type": "execute_result",
          "data": {
            "text/plain": [
              "<sklearn.metrics._plot.roc_curve.RocCurveDisplay at 0x7f067fd01110>"
            ]
          },
          "metadata": {},
          "execution_count": 54
        },
        {
          "output_type": "display_data",
          "data": {
            "image/png": "[encoded data removed]",
            "text/plain": [
              "<Figure size 432x288 with 1 Axes>"
            ]
          },
          "metadata": {
            "needs_background": "light"
          }
        }
      ]
    },
    {
      "cell_type": "code",
      "source": [
        "# generate precision-recall graph\n",
        "prdisplay = PrecisionRecallDisplay.from_predictions(y_test, nb_pred, name='Naive Bayes')"
      ],
      "metadata": {
        "colab": {
          "base_uri": "https://localhost:8080/",
          "height": 279
        },
        "id": "cYGjs9VkpKTj",
        "outputId": "40c5e35a-4b5c-48c4-b606-7302fdc7a648"
      },
      "execution_count": null,
      "outputs": [
        {
          "output_type": "display_data",
          "data": {
            "image/png": "[encoded data removed]",
            "text/plain": [
              "<Figure size 432x288 with 1 Axes>"
            ]
          },
          "metadata": {
            "needs_background": "light"
          }
        }
      ]
    },
    {
      "cell_type": "markdown",
      "source": [
        "#### Naive Bayes Final Model Summary\n",
        "\n",
        "The Naive Bayes model performed with accuracy consistent with the SVM and Logistic Regression models, and like these other models, had low precision among companies with true bankruptcy = 1.\n"
      ],
      "metadata": {
        "id": "CIEVe-vvkDqv"
      }
    },
    {
      "cell_type": "markdown",
      "source": [
        "### Modeling (Supervised) Conclusion\n",
        "\n",
        "All three of these models performed poorly on this dataset. Given the proportion of the full dataset that has Bankruptcy? = 1 (less than 97%), I think that the poor performance of these models could be attributed to the imbalanced dataset (and imbalanced sample). Looking forward to the next portion of this exercise, where we will be testing additional classification techniques, I want to also experiment with oversampling/intentionally weighting the sample of the minority class (Bankruptcy? = 1) in order to train the model with more examples of the minority class. I also expect the tree-based modeling techniques we are exploring next week to perform more effectively on class-imbalanced data than the models discussed this week."
      ],
      "metadata": {
        "id": "KIbul2RukFM0"
      }
    },
    {
      "cell_type": "markdown",
      "source": [
        "## Modeling - Trees and Forests Bagging, Boosting, Random Forests, Ensembles\n",
        "\n",
        "Split the data into 80% training set and 20% validation set, then build three models:\n",
        "\n",
        "\n",
        "*   Random Forest Classifier\n",
        "*   Gradient Boosted Trees\n",
        "*   Extra Trees\n",
        "\n",
        "Conduct hyperparameter tuning for the following at a minimum:\n",
        "*   n_estimators (number of trees)\n",
        "*   max_features (max features considered for splitting a node)\n",
        "*   max_depth (max number of levels in each tree)\n",
        "*   splitting criteria (entropy or gini)\n",
        "\n",
        "Compare models using F1-Score on the 20% validation set."
      ],
      "metadata": {
        "id": "ATOYe-79-36Z"
      }
    },
    {
      "cell_type": "markdown",
      "source": [
        "### Random Forest"
      ],
      "metadata": {
        "id": "rzdJ_qq8BMWn"
      }
    },
    {
      "cell_type": "markdown",
      "source": [
        "#### Hyperparameter Tuning"
      ],
      "metadata": {
        "id": "hPoribIPBOU_"
      }
    },
    {
      "cell_type": "code",
      "source": [
        "RandomForestClassifier().get_params()"
      ],
      "metadata": {
        "colab": {
          "base_uri": "https://localhost:8080/"
        },
        "id": "HECPeOSiBjSa",
        "outputId": "901d7932-5ab0-4cdf-f8fa-aee8ca3ce223"
      },
      "execution_count": null,
      "outputs": [
        {
          "output_type": "execute_result",
          "data": {
            "text/plain": [
              "{'bootstrap': True,\n",
              " 'ccp_alpha': 0.0,\n",
              " 'class_weight': None,\n",
              " 'criterion': 'gini',\n",
              " 'max_depth': None,\n",
              " 'max_features': 'auto',\n",
              " 'max_leaf_nodes': None,\n",
              " 'max_samples': None,\n",
              " 'min_impurity_decrease': 0.0,\n",
              " 'min_samples_leaf': 1,\n",
              " 'min_samples_split': 2,\n",
              " 'min_weight_fraction_leaf': 0.0,\n",
              " 'n_estimators': 100,\n",
              " 'n_jobs': None,\n",
              " 'oob_score': False,\n",
              " 'random_state': None,\n",
              " 'verbose': 0,\n",
              " 'warm_start': False}"
            ]
          },
          "metadata": {},
          "execution_count": 6
        }
      ]
    },
    {
      "cell_type": "code",
      "source": [
        "params = {'criterion': ['gini', 'entropy'],\n",
        "          'max_depth': [10, 50, 100, None],\n",
        "          'max_features': ['auto', None],\n",
        "          'n_estimators': [50, 100, 150]}"
      ],
      "metadata": {
        "id": "cQPfg-sFBQpw"
      },
      "execution_count": 5,
      "outputs": []
    },
    {
      "cell_type": "code",
      "source": [
        "grid_rf = GridSearchCV(RandomForestClassifier(), params, scoring = 'roc_auc', verbose=1)"
      ],
      "metadata": {
        "id": "ZNxMIqdMCnDj"
      },
      "execution_count": 6,
      "outputs": []
    },
    {
      "cell_type": "code",
      "source": [
        "grid_rf.fit(X_train, y_train)"
      ],
      "metadata": {
        "id": "laR5MuVIDIoK",
        "colab": {
          "base_uri": "https://localhost:8080/"
        },
        "outputId": "f46bb3fd-5325-48fe-a335-f60db6784797"
      },
      "execution_count": 7,
      "outputs": [
        {
          "output_type": "stream",
          "name": "stdout",
          "text": [
            "Fitting 5 folds for each of 48 candidates, totalling 240 fits\n"
          ]
        },
        {
          "output_type": "execute_result",
          "data": {
            "text/plain": [
              "GridSearchCV(estimator=RandomForestClassifier(),\n",
              "             param_grid={'criterion': ['gini', 'entropy'],\n",
              "                         'max_depth': [10, 50, 100, None],\n",
              "                         'max_features': ['auto', None],\n",
              "                         'n_estimators': [50, 100, 150]},\n",
              "             scoring='roc_auc', verbose=1)"
            ]
          },
          "metadata": {},
          "execution_count": 7
        }
      ]
    },
    {
      "cell_type": "code",
      "source": [
        "grid_rf.best_estimator_"
      ],
      "metadata": {
        "id": "5lBr-QVqDKoE",
        "colab": {
          "base_uri": "https://localhost:8080/"
        },
        "outputId": "c3348077-a07b-44ea-918c-08003dfb1ee3"
      },
      "execution_count": 8,
      "outputs": [
        {
          "output_type": "execute_result",
          "data": {
            "text/plain": [
              "RandomForestClassifier(criterion='entropy', max_depth=50)"
            ]
          },
          "metadata": {},
          "execution_count": 8
        }
      ]
    },
    {
      "cell_type": "code",
      "source": [
        "grid_rf.best_score_"
      ],
      "metadata": {
        "id": "unieJgjlDN1e",
        "colab": {
          "base_uri": "https://localhost:8080/"
        },
        "outputId": "5ec4d8ca-319c-4566-a44e-bc5dc38806bf"
      },
      "execution_count": 9,
      "outputs": [
        {
          "output_type": "execute_result",
          "data": {
            "text/plain": [
              "0.9441907085552597"
            ]
          },
          "metadata": {},
          "execution_count": 9
        }
      ]
    },
    {
      "cell_type": "markdown",
      "source": [
        "#### Random Forest Final Model"
      ],
      "metadata": {
        "id": "PltULVvQDlRA"
      }
    },
    {
      "cell_type": "code",
      "source": [
        "# fit RF model with best performing hyperparameters\n",
        "rf_final = RandomForestClassifier(criterion= 'entropy', max_depth= 50, max_features= None, n_estimators= 100).fit(X_train, y_train)"
      ],
      "metadata": {
        "id": "gWWI4Fc5DYOS"
      },
      "execution_count": 10,
      "outputs": []
    },
    {
      "cell_type": "code",
      "source": [
        "# generate predictions on test data\n",
        "rf_pred = rf_final.predict(X_test)"
      ],
      "metadata": {
        "id": "5RUs572SD5kj"
      },
      "execution_count": 11,
      "outputs": []
    },
    {
      "cell_type": "code",
      "source": [
        "print(classification_report(y_test, rf_pred))"
      ],
      "metadata": {
        "id": "NFfuvMRDEB8E",
        "colab": {
          "base_uri": "https://localhost:8080/"
        },
        "outputId": "0d383336-f48f-47f2-effc-b62ac42b12ee"
      },
      "execution_count": 12,
      "outputs": [
        {
          "output_type": "stream",
          "name": "stdout",
          "text": [
            "              precision    recall  f1-score   support\n",
            "\n",
            "           0       0.97      1.00      0.99      1327\n",
            "           1       0.20      0.03      0.05        37\n",
            "\n",
            "    accuracy                           0.97      1364\n",
            "   macro avg       0.59      0.51      0.52      1364\n",
            "weighted avg       0.95      0.97      0.96      1364\n",
            "\n"
          ]
        }
      ]
    },
    {
      "cell_type": "code",
      "source": [
        "print('Accuracy: ', accuracy_score(y_test, rf_pred))"
      ],
      "metadata": {
        "id": "SzajoxexEZLF",
        "colab": {
          "base_uri": "https://localhost:8080/"
        },
        "outputId": "d4b9f3c4-fa83-4306-8a6d-bc770cb72b1d"
      },
      "execution_count": 13,
      "outputs": [
        {
          "output_type": "stream",
          "name": "stdout",
          "text": [
            "Accuracy:  0.9706744868035191\n"
          ]
        }
      ]
    },
    {
      "cell_type": "code",
      "source": [
        "rf_cm = confusion_matrix(y_test, rf_pred)\n",
        "print(rf_cm)"
      ],
      "metadata": {
        "id": "7YVBlHZIEcdA",
        "colab": {
          "base_uri": "https://localhost:8080/"
        },
        "outputId": "39feda97-d1fd-46fe-c8a7-6a6fb138ab03"
      },
      "execution_count": 14,
      "outputs": [
        {
          "output_type": "stream",
          "name": "stdout",
          "text": [
            "[[1323    4]\n",
            " [  36    1]]\n"
          ]
        }
      ]
    },
    {
      "cell_type": "code",
      "source": [
        "# from confusion matrix: count of each prediction result\n",
        "rf_tn = rf_cm[0][0]\n",
        "print('True Negatives: ', rf_tn)\n",
        "rf_fn = rf_cm[1][0]\n",
        "print('False Negatives: ', rf_fn)\n",
        "rf_tp = rf_cm[1][1]\n",
        "print('True Positives: ', rf_tp)\n",
        "rf_fp = rf_cm[0][1]\n",
        "print('False Positives: ', rf_fp)"
      ],
      "metadata": {
        "id": "q1SPUYyeEg5M",
        "colab": {
          "base_uri": "https://localhost:8080/"
        },
        "outputId": "99993d53-5282-43f2-bb8f-d2e1845d7393"
      },
      "execution_count": 15,
      "outputs": [
        {
          "output_type": "stream",
          "name": "stdout",
          "text": [
            "True Negatives:  1323\n",
            "False Negatives:  36\n",
            "True Positives:  1\n",
            "False Positives:  4\n"
          ]
        }
      ]
    },
    {
      "cell_type": "code",
      "source": [
        "# tpr\n",
        "print('TPR: ', rf_tp/(rf_tp + rf_fn))\n",
        "# fpr\n",
        "print('FPR: ', rf_fp/(rf_fp + rf_tn))\n",
        "# tnr\n",
        "print('TNR: ', rf_tn/(rf_tn + rf_fp))\n",
        "# fnr\n",
        "print('FNR: ', rf_fn/(rf_fn + rf_tp))"
      ],
      "metadata": {
        "id": "lZ95mu4EE1Lc",
        "colab": {
          "base_uri": "https://localhost:8080/"
        },
        "outputId": "bf2423e2-c4a9-42e0-8c40-92c419ffce5c"
      },
      "execution_count": 16,
      "outputs": [
        {
          "output_type": "stream",
          "name": "stdout",
          "text": [
            "TPR:  0.02702702702702703\n",
            "FPR:  0.003014318010550113\n",
            "TNR:  0.9969856819894499\n",
            "FNR:  0.972972972972973\n"
          ]
        }
      ]
    },
    {
      "cell_type": "code",
      "source": [
        "# generate ROC curve\n",
        "fpr, tpr, thresholds = roc_curve(y_test, rf_pred)\n",
        "roc_auc = auc(fpr, tpr)\n",
        "\n",
        "rocdisplay = RocCurveDisplay(fpr=fpr, tpr=tpr, roc_auc=roc_auc, estimator_name='Random Forest')\n",
        "rocdisplay.plot()"
      ],
      "metadata": {
        "id": "3d07MBn_E-d_",
        "colab": {
          "base_uri": "https://localhost:8080/",
          "height": 296
        },
        "outputId": "c83efda7-c06f-4d06-8071-e1463b44464c"
      },
      "execution_count": 17,
      "outputs": [
        {
          "output_type": "execute_result",
          "data": {
            "text/plain": [
              "<sklearn.metrics._plot.roc_curve.RocCurveDisplay at 0x7f379752d850>"
            ]
          },
          "metadata": {},
          "execution_count": 17
        },
        {
          "output_type": "display_data",
          "data": {
            "image/png": "[encoded data removed]",
            "text/plain": [
              "<Figure size 432x288 with 1 Axes>"
            ]
          },
          "metadata": {
            "needs_background": "light"
          }
        }
      ]
    },
    {
      "cell_type": "code",
      "source": [
        "# generate precision-recall graph\n",
        "prdisplay = PrecisionRecallDisplay.from_predictions(y_test, rf_pred, name='Random Forest')"
      ],
      "metadata": {
        "id": "U-IHyzP_FFjf",
        "colab": {
          "base_uri": "https://localhost:8080/",
          "height": 279
        },
        "outputId": "402a947e-126b-458e-b73b-6540c36dc8a3"
      },
      "execution_count": 18,
      "outputs": [
        {
          "output_type": "display_data",
          "data": {
            "image/png": "[encoded data removed]",
            "text/plain": [
              "<Figure size 432x288 with 1 Axes>"
            ]
          },
          "metadata": {
            "needs_background": "light"
          }
        }
      ]
    },
    {
      "cell_type": "markdown",
      "source": [
        "#### Random Forest Final Model Summary"
      ],
      "metadata": {
        "id": "zkrx_Fq9FiIa"
      }
    },
    {
      "cell_type": "markdown",
      "source": [
        "### Gradient Boosted Trees"
      ],
      "metadata": {
        "id": "DRwq5zZWFmn4"
      }
    },
    {
      "cell_type": "markdown",
      "source": [
        "#### Hyperparameter Tuning"
      ],
      "metadata": {
        "id": "jf9xFm_OGTmy"
      }
    },
    {
      "cell_type": "code",
      "source": [
        "GradientBoostingClassifier().get_params()"
      ],
      "metadata": {
        "id": "qvy77zmbFLVa",
        "colab": {
          "base_uri": "https://localhost:8080/"
        },
        "outputId": "d4258ecd-5aaa-47c8-ea06-137cc133adc6"
      },
      "execution_count": 19,
      "outputs": [
        {
          "output_type": "execute_result",
          "data": {
            "text/plain": [
              "{'ccp_alpha': 0.0,\n",
              " 'criterion': 'friedman_mse',\n",
              " 'init': None,\n",
              " 'learning_rate': 0.1,\n",
              " 'loss': 'deviance',\n",
              " 'max_depth': 3,\n",
              " 'max_features': None,\n",
              " 'max_leaf_nodes': None,\n",
              " 'min_impurity_decrease': 0.0,\n",
              " 'min_samples_leaf': 1,\n",
              " 'min_samples_split': 2,\n",
              " 'min_weight_fraction_leaf': 0.0,\n",
              " 'n_estimators': 100,\n",
              " 'n_iter_no_change': None,\n",
              " 'random_state': None,\n",
              " 'subsample': 1.0,\n",
              " 'tol': 0.0001,\n",
              " 'validation_fraction': 0.1,\n",
              " 'verbose': 0,\n",
              " 'warm_start': False}"
            ]
          },
          "metadata": {},
          "execution_count": 19
        }
      ]
    },
    {
      "cell_type": "code",
      "source": [
        "params = {'max_depth': [10, 50, 100, None],\n",
        "          'max_features': ['auto', None],\n",
        "          'n_estimators': [50, 100, 150, 200]}"
      ],
      "metadata": {
        "id": "NFdUQcBcGaa1"
      },
      "execution_count": 20,
      "outputs": []
    },
    {
      "cell_type": "code",
      "source": [
        "grid_gb = GridSearchCV(GradientBoostingClassifier(), params, scoring = 'roc_auc', verbose=1)"
      ],
      "metadata": {
        "id": "j0FGJO_sLK13"
      },
      "execution_count": 21,
      "outputs": []
    },
    {
      "cell_type": "code",
      "source": [
        "grid_gb.fit(X_train, y_train)"
      ],
      "metadata": {
        "id": "LYBMpxaNLRtC",
        "colab": {
          "base_uri": "https://localhost:8080/"
        },
        "outputId": "984bcf7e-e6ba-4af2-aefc-34461da3d2ce"
      },
      "execution_count": 22,
      "outputs": [
        {
          "output_type": "stream",
          "name": "stdout",
          "text": [
            "Fitting 5 folds for each of 32 candidates, totalling 160 fits\n"
          ]
        },
        {
          "output_type": "execute_result",
          "data": {
            "text/plain": [
              "GridSearchCV(estimator=GradientBoostingClassifier(),\n",
              "             param_grid={'max_depth': [10, 50, 100, None],\n",
              "                         'max_features': ['auto', None],\n",
              "                         'n_estimators': [50, 100, 150, 200]},\n",
              "             scoring='roc_auc', verbose=1)"
            ]
          },
          "metadata": {},
          "execution_count": 22
        }
      ]
    },
    {
      "cell_type": "code",
      "source": [
        "grid_gb.best_estimator_"
      ],
      "metadata": {
        "id": "2iylxPw8LWKY",
        "colab": {
          "base_uri": "https://localhost:8080/"
        },
        "outputId": "a50806f6-363d-4141-e645-e5df74877e53"
      },
      "execution_count": 23,
      "outputs": [
        {
          "output_type": "execute_result",
          "data": {
            "text/plain": [
              "GradientBoostingClassifier(max_depth=10, max_features='auto', n_estimators=200)"
            ]
          },
          "metadata": {},
          "execution_count": 23
        }
      ]
    },
    {
      "cell_type": "code",
      "source": [
        "grid_gb.best_score_"
      ],
      "metadata": {
        "id": "v-hJTgcwLZhm",
        "colab": {
          "base_uri": "https://localhost:8080/"
        },
        "outputId": "3a950a9a-5e9d-4ddc-9780-f62a140df0e0"
      },
      "execution_count": 24,
      "outputs": [
        {
          "output_type": "execute_result",
          "data": {
            "text/plain": [
              "0.9300169838984734"
            ]
          },
          "metadata": {},
          "execution_count": 24
        }
      ]
    },
    {
      "cell_type": "markdown",
      "source": [
        "#### Gradient Boosted Trees Final Model"
      ],
      "metadata": {
        "id": "FKK0nBqDLdRK"
      }
    },
    {
      "cell_type": "code",
      "source": [
        "# fit gradient boosted model with best performing hyperparameters\n",
        "gb_final = GradientBoostingClassifier(max_depth=10, max_features='auto', n_estimators=200).fit(X_train, y_train)"
      ],
      "metadata": {
        "id": "8xKaYYm5Lcht"
      },
      "execution_count": 25,
      "outputs": []
    },
    {
      "cell_type": "code",
      "source": [
        "# generate predictions on test data\n",
        "gb_pred = gb_final.predict(X_test)"
      ],
      "metadata": {
        "id": "MlzTR6xTLvT9"
      },
      "execution_count": 26,
      "outputs": []
    },
    {
      "cell_type": "code",
      "source": [
        "print(classification_report(y_test, gb_pred))"
      ],
      "metadata": {
        "id": "XbS6hNy3LzM9",
        "colab": {
          "base_uri": "https://localhost:8080/"
        },
        "outputId": "9d13f07e-e317-4e82-8710-edc495a96bc7"
      },
      "execution_count": 27,
      "outputs": [
        {
          "output_type": "stream",
          "name": "stdout",
          "text": [
            "              precision    recall  f1-score   support\n",
            "\n",
            "           0       0.98      1.00      0.99      1327\n",
            "           1       0.45      0.14      0.21        37\n",
            "\n",
            "    accuracy                           0.97      1364\n",
            "   macro avg       0.72      0.57      0.60      1364\n",
            "weighted avg       0.96      0.97      0.96      1364\n",
            "\n"
          ]
        }
      ]
    },
    {
      "cell_type": "code",
      "source": [
        "print('Accuracy: ', accuracy_score(y_test, gb_pred))"
      ],
      "metadata": {
        "id": "FTjTYzdKL2Cq",
        "colab": {
          "base_uri": "https://localhost:8080/"
        },
        "outputId": "91f5a191-1072-4e5c-f9a1-c771a10f3696"
      },
      "execution_count": 28,
      "outputs": [
        {
          "output_type": "stream",
          "name": "stdout",
          "text": [
            "Accuracy:  0.9721407624633431\n"
          ]
        }
      ]
    },
    {
      "cell_type": "code",
      "source": [
        "gb_cm = confusion_matrix(y_test, gb_pred)\n",
        "print(gb_cm)"
      ],
      "metadata": {
        "id": "Gy29sZykL5LO",
        "colab": {
          "base_uri": "https://localhost:8080/"
        },
        "outputId": "63a72dcd-2c91-459b-ed0f-25c780f1bebd"
      },
      "execution_count": 29,
      "outputs": [
        {
          "output_type": "stream",
          "name": "stdout",
          "text": [
            "[[1321    6]\n",
            " [  32    5]]\n"
          ]
        }
      ]
    },
    {
      "cell_type": "code",
      "source": [
        "# from confusion matrix: count of each prediction result\n",
        "gb_tn = gb_cm[0][0]\n",
        "print('True Negatives: ', gb_tn)\n",
        "gb_fn = gb_cm[1][0]\n",
        "print('False Negatives: ', gb_fn)\n",
        "gb_tp = gb_cm[1][1]\n",
        "print('True Positives: ', gb_tp)\n",
        "gb_fp = gb_cm[0][1]\n",
        "print('False Positives: ', gb_fp)"
      ],
      "metadata": {
        "id": "tkGsWT1RL9SP",
        "colab": {
          "base_uri": "https://localhost:8080/"
        },
        "outputId": "00b82b85-4b9f-470e-8b8f-945d6d522d06"
      },
      "execution_count": 30,
      "outputs": [
        {
          "output_type": "stream",
          "name": "stdout",
          "text": [
            "True Negatives:  1321\n",
            "False Negatives:  32\n",
            "True Positives:  5\n",
            "False Positives:  6\n"
          ]
        }
      ]
    },
    {
      "cell_type": "code",
      "source": [
        "# tpr\n",
        "print('TPR: ', gb_tp/(gb_tp + gb_fn))\n",
        "# fpr\n",
        "print('FPR: ', gb_fp/(gb_fp + gb_tn))\n",
        "# tnr\n",
        "print('TNR: ', gb_tn/(gb_tn + gb_fp))\n",
        "# fnr\n",
        "print('FNR: ', gb_fn/(gb_fn + gb_tp))"
      ],
      "metadata": {
        "id": "jOOq-aDkMNCe",
        "colab": {
          "base_uri": "https://localhost:8080/"
        },
        "outputId": "d92dd88e-a873-42cd-da79-2c15117e827b"
      },
      "execution_count": 31,
      "outputs": [
        {
          "output_type": "stream",
          "name": "stdout",
          "text": [
            "TPR:  0.13513513513513514\n",
            "FPR:  0.00452147701582517\n",
            "TNR:  0.9954785229841748\n",
            "FNR:  0.8648648648648649\n"
          ]
        }
      ]
    },
    {
      "cell_type": "code",
      "source": [
        "# generate ROC curve\n",
        "fpr, tpr, thresholds = roc_curve(y_test, gb_pred)\n",
        "roc_auc = auc(fpr, tpr)\n",
        "\n",
        "rocdisplay = RocCurveDisplay(fpr=fpr, tpr=tpr, roc_auc=roc_auc, estimator_name='Gradient Boosted Trees')\n",
        "rocdisplay.plot()"
      ],
      "metadata": {
        "id": "7PFaLLxrMUXE",
        "colab": {
          "base_uri": "https://localhost:8080/",
          "height": 296
        },
        "outputId": "1fa98ce0-82f3-482b-9ebf-564e2b9c52b6"
      },
      "execution_count": 32,
      "outputs": [
        {
          "output_type": "execute_result",
          "data": {
            "text/plain": [
              "<sklearn.metrics._plot.roc_curve.RocCurveDisplay at 0x7f37950f0f10>"
            ]
          },
          "metadata": {},
          "execution_count": 32
        },
        {
          "output_type": "display_data",
          "data": {
            "image/png": "[encoded data removed]",
            "text/plain": [
              "<Figure size 432x288 with 1 Axes>"
            ]
          },
          "metadata": {
            "needs_background": "light"
          }
        }
      ]
    },
    {
      "cell_type": "code",
      "source": [
        "# generate precision-recall graph\n",
        "prdisplay = PrecisionRecallDisplay.from_predictions(y_test, gb_pred, name='Gradient Boosted Trees')"
      ],
      "metadata": {
        "id": "OxDSnvt1MeYM",
        "colab": {
          "base_uri": "https://localhost:8080/",
          "height": 279
        },
        "outputId": "47eee032-da37-4baf-9fae-459ca8fa8c2c"
      },
      "execution_count": 33,
      "outputs": [
        {
          "output_type": "display_data",
          "data": {
            "image/png": "[encoded data removed]",
            "text/plain": [
              "<Figure size 432x288 with 1 Axes>"
            ]
          },
          "metadata": {
            "needs_background": "light"
          }
        }
      ]
    },
    {
      "cell_type": "markdown",
      "source": [
        "#### Gradient Boosted Trees Final Model Summary"
      ],
      "metadata": {
        "id": "gW6bUn1HMjTl"
      }
    },
    {
      "cell_type": "markdown",
      "source": [
        "### Extra Trees"
      ],
      "metadata": {
        "id": "kvmYwAdvMqr9"
      }
    },
    {
      "cell_type": "markdown",
      "source": [
        "#### Hyperparameter Tuning"
      ],
      "metadata": {
        "id": "3490tQIaMurR"
      }
    },
    {
      "cell_type": "code",
      "source": [
        "ExtraTreesClassifier().get_params()"
      ],
      "metadata": {
        "id": "4FO3sIp0M1Qi",
        "colab": {
          "base_uri": "https://localhost:8080/"
        },
        "outputId": "0d905099-5601-4924-ed38-8fe07a20dfc5"
      },
      "execution_count": 34,
      "outputs": [
        {
          "output_type": "execute_result",
          "data": {
            "text/plain": [
              "{'bootstrap': False,\n",
              " 'ccp_alpha': 0.0,\n",
              " 'class_weight': None,\n",
              " 'criterion': 'gini',\n",
              " 'max_depth': None,\n",
              " 'max_features': 'auto',\n",
              " 'max_leaf_nodes': None,\n",
              " 'max_samples': None,\n",
              " 'min_impurity_decrease': 0.0,\n",
              " 'min_samples_leaf': 1,\n",
              " 'min_samples_split': 2,\n",
              " 'min_weight_fraction_leaf': 0.0,\n",
              " 'n_estimators': 100,\n",
              " 'n_jobs': None,\n",
              " 'oob_score': False,\n",
              " 'random_state': None,\n",
              " 'verbose': 0,\n",
              " 'warm_start': False}"
            ]
          },
          "metadata": {},
          "execution_count": 34
        }
      ]
    },
    {
      "cell_type": "code",
      "source": [
        "params = {'criterion': ['gini', 'entropy'],\n",
        "          'max_depth': [10, 50, 100, None],\n",
        "          'max_features': ['auto', None],\n",
        "          'n_estimators': [50, 100, 150, 200]}"
      ],
      "metadata": {
        "id": "rSYXxyMkMxUf"
      },
      "execution_count": 35,
      "outputs": []
    },
    {
      "cell_type": "code",
      "source": [
        "grid_et = GridSearchCV(ExtraTreesClassifier(), params, scoring = 'roc_auc', verbose = 1)"
      ],
      "metadata": {
        "id": "gRKma7cbM5Ii"
      },
      "execution_count": 36,
      "outputs": []
    },
    {
      "cell_type": "code",
      "source": [
        "grid_et.fit(X_train, y_train)"
      ],
      "metadata": {
        "id": "Pq4ftl6YNBTx",
        "colab": {
          "base_uri": "https://localhost:8080/"
        },
        "outputId": "912fa5b3-3485-4e22-ddf7-d854f59f6f49"
      },
      "execution_count": 37,
      "outputs": [
        {
          "output_type": "stream",
          "name": "stdout",
          "text": [
            "Fitting 5 folds for each of 64 candidates, totalling 320 fits\n"
          ]
        },
        {
          "output_type": "execute_result",
          "data": {
            "text/plain": [
              "GridSearchCV(estimator=ExtraTreesClassifier(),\n",
              "             param_grid={'criterion': ['gini', 'entropy'],\n",
              "                         'max_depth': [10, 50, 100, None],\n",
              "                         'max_features': ['auto', None],\n",
              "                         'n_estimators': [50, 100, 150, 200]},\n",
              "             scoring='roc_auc', verbose=1)"
            ]
          },
          "metadata": {},
          "execution_count": 37
        }
      ]
    },
    {
      "cell_type": "code",
      "source": [
        "grid_et.best_estimator_"
      ],
      "metadata": {
        "id": "KUjAHr1uNEP3",
        "colab": {
          "base_uri": "https://localhost:8080/",
          "height": 165
        },
        "outputId": "3125ae24-e814-4f2a-8f8b-6a39a5a0d24d"
      },
      "execution_count": 1,
      "outputs": [
        {
          "output_type": "error",
          "ename": "NameError",
          "evalue": "ignored",
          "traceback": [
            "\u001b[0;31m---------------------------------------------------------------------------\u001b[0m",
            "\u001b[0;31mNameError\u001b[0m                                 Traceback (most recent call last)",
            "\u001b[0;32m<ipython-input-1-0857fe1aaff6>\u001b[0m in \u001b[0;36m<module>\u001b[0;34m()\u001b[0m\n\u001b[0;32m----> 1\u001b[0;31m \u001b[0mgrid_et\u001b[0m\u001b[0;34m.\u001b[0m\u001b[0mbest_estimator_\u001b[0m\u001b[0;34m\u001b[0m\u001b[0;34m\u001b[0m\u001b[0m\n\u001b[0m",
            "\u001b[0;31mNameError\u001b[0m: name 'grid_et' is not defined"
          ]
        }
      ]
    },
    {
      "cell_type": "code",
      "source": [
        "grid_et.best_score_"
      ],
      "metadata": {
        "id": "tEYQ4ZyuNH2F"
      },
      "execution_count": null,
      "outputs": []
    },
    {
      "cell_type": "markdown",
      "source": [
        "#### Extra Trees Final Model"
      ],
      "metadata": {
        "id": "RH4LGFoINLZ0"
      }
    },
    {
      "cell_type": "code",
      "source": [
        "# fit Extra Trees model with best performing hyperparameters\n",
        "et_final = ExtraTreesClassifier(C=1, class_weight='balanced', gamma=0.001, kernel='linear').fit(X_train, y_train)"
      ],
      "metadata": {
        "id": "MKvjc6PfNOD2"
      },
      "execution_count": null,
      "outputs": []
    },
    {
      "cell_type": "code",
      "source": [
        "# generate predictions on test data\n",
        "et_pred = et_final.predict(X_test)"
      ],
      "metadata": {
        "id": "X5fkrxlbNbMo"
      },
      "execution_count": null,
      "outputs": []
    },
    {
      "cell_type": "code",
      "source": [
        "print(classification_report(y_test, et_pred))"
      ],
      "metadata": {
        "id": "LM9v4v6WNgI-"
      },
      "execution_count": null,
      "outputs": []
    },
    {
      "cell_type": "code",
      "source": [
        "print('Accuracy: ', accuracy_score(y_test, et_pred))"
      ],
      "metadata": {
        "id": "MBOfxcrDNjQ_"
      },
      "execution_count": null,
      "outputs": []
    },
    {
      "cell_type": "code",
      "source": [
        "et_cm = confusion_matrix(y_test, et_pred)\n",
        "print(et_cm)"
      ],
      "metadata": {
        "id": "nQoKX51ONmBX"
      },
      "execution_count": null,
      "outputs": []
    },
    {
      "cell_type": "code",
      "source": [
        "# from confusion matrix: count of each prediction result\n",
        "et_tn = et_cm[0][0]\n",
        "print('True Negatives: ', et_tn)\n",
        "et_fn = et_cm[1][0]\n",
        "print('False Negatives: ', et_fn)\n",
        "et_tp = et_cm[1][1]\n",
        "print('True Positives: ', et_tp)\n",
        "et_fp = et_cm[0][1]\n",
        "print('False Positives: ', et_fp)"
      ],
      "metadata": {
        "id": "h70EUqnwNqew"
      },
      "execution_count": null,
      "outputs": []
    },
    {
      "cell_type": "code",
      "source": [
        "# tpr\n",
        "print('TPR: ', et_tp/(et_tp + et_fn))\n",
        "# fpr\n",
        "print('FPR: ', et_fp/(et_fp + et_tn))\n",
        "# tnr\n",
        "print('TNR: ', et_tn/(et_tn + et_fp))\n",
        "# fnr\n",
        "print('FNR: ', et_fn/(et_fn + et_tp))"
      ],
      "metadata": {
        "id": "HSggfEdYN3D0"
      },
      "execution_count": null,
      "outputs": []
    },
    {
      "cell_type": "code",
      "source": [
        "# generate ROC curve\n",
        "fpr, tpr, thresholds = roc_curve(y_test, et_pred)\n",
        "roc_auc = auc(fpr, tpr)\n",
        "\n",
        "rocdisplay = RocCurveDisplay(fpr=fpr, tpr=tpr, roc_auc=roc_auc, estimator_name='Extra Trees')\n",
        "rocdisplay.plot()"
      ],
      "metadata": {
        "id": "wRzyCXobODnk"
      },
      "execution_count": null,
      "outputs": []
    },
    {
      "cell_type": "code",
      "source": [
        "# generate precision-recall graph\n",
        "prdisplay = PrecisionRecallDisplay.from_predictions(y_test, et_pred, name='Extra Trees')"
      ],
      "metadata": {
        "id": "7aAZ1ZgPOHav"
      },
      "execution_count": null,
      "outputs": []
    },
    {
      "cell_type": "markdown",
      "source": [
        "#### Extra Trees Final Model Summary"
      ],
      "metadata": {
        "id": "_DGxJlImONCZ"
      }
    },
    {
      "cell_type": "markdown",
      "source": [
        "### Modeling (Tree-based Methods) Conclusion"
      ],
      "metadata": {
        "id": "aT2iAFt1OQLA"
      }
    }
  ]
}